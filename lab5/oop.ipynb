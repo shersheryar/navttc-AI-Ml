{
 "cells": [
  {
   "cell_type": "code",
   "execution_count": null,
   "id": "9d7a9ea3",
   "metadata": {},
   "outputs": [],
   "source": []
  },
  {
   "cell_type": "code",
   "execution_count": 9,
   "id": "cb607a16",
   "metadata": {},
   "outputs": [
    {
     "name": "stdout",
     "output_type": "stream",
     "text": [
      "Title: book1, Author: author1\n",
      "Title: book2, Author: author2\n"
     ]
    }
   ],
   "source": [
    "class Book:\n",
    "    def __init__(self, title, author):\n",
    "        self.title = title\n",
    "        self.author = author\n",
    "\n",
    "    def display(self):\n",
    "        print(f\"Title: {self.title}, Author: {self.author}\")\n",
    "\n",
    "\n",
    "\n",
    "book1 = Book(\"book1\", \"author1\")\n",
    "book2 = Book(\"book2\", \"author2\")\n",
    "\n",
    "book1.display()\n",
    "book2.display()\n"
   ]
  },
  {
   "cell_type": "code",
   "execution_count": 32,
   "id": "53d012a8",
   "metadata": {},
   "outputs": [
    {
     "name": "stdout",
     "output_type": "stream",
     "text": [
      "Name: sheryar, Marks: 85\n",
      "Name: ali, Marks: 92\n"
     ]
    }
   ],
   "source": [
    "class Student:\n",
    "    def __init__(self, name, marks):\n",
    "        self.name = name\n",
    "        self.marks = marks\n",
    "\n",
    "    def display(self):\n",
    "        print(f\"Name: {self.name}, Marks: {self.marks}\")\n",
    "\n",
    "\n",
    "student1 = Student(\"sheryar\", 85)\n",
    "student2 = Student(\"ali\", 92)\n",
    "\n",
    "student1.display()\n",
    "student2.display()\n"
   ]
  },
  {
   "cell_type": "code",
   "execution_count": 11,
   "id": "babdffd3",
   "metadata": {},
   "outputs": [
    {
     "name": "stdout",
     "output_type": "stream",
     "text": [
      "Company: ABC Ltd\n",
      "Total Employees: 3\n"
     ]
    }
   ],
   "source": [
    "class Employee:\n",
    "    company = \"ABC Ltd\"\n",
    "    count = 0  \n",
    "\n",
    "    def __init__(self, name):\n",
    "        self.name = name\n",
    "        Employee.count += 1  \n",
    "\n",
    "    @classmethod\n",
    "    def total_employees(cls):\n",
    "        return cls.count\n",
    "\n",
    "\n",
    "emp1 = Employee(\"sheryar\")\n",
    "emp2 = Employee(\"ali\")\n",
    "emp3 = Employee(\"sajid\")\n",
    "\n",
    "print(f\"Company: {Employee.company}\")\n",
    "print(f\"Total Employees: {Employee.total_employees()}\")\n"
   ]
  },
  {
   "cell_type": "code",
   "execution_count": 14,
   "id": "305b9759",
   "metadata": {},
   "outputs": [
    {
     "name": "stdout",
     "output_type": "stream",
     "text": [
      "Laptop Created\n",
      "Laptop Destroyed\n"
     ]
    }
   ],
   "source": [
    "class Laptop:\n",
    "    def __init__(self):\n",
    "        print(\"Laptop Created\")\n",
    "\n",
    "    def __del__(self):\n",
    "        print(\"Laptop Destroyed\")\n",
    "\n",
    "laptop = Laptop()\n",
    "del laptop "
   ]
  },
  {
   "cell_type": "code",
   "execution_count": 24,
   "id": "f1fa280d",
   "metadata": {},
   "outputs": [
    {
     "name": "stdout",
     "output_type": "stream",
     "text": [
      "Vehicle is moving\n",
      "Car is driving on the road\n",
      "Bike is riding on the path\n"
     ]
    }
   ],
   "source": [
    "class Vehicle:\n",
    "    def move(self):\n",
    "        print(\"Vehicle is moving\")\n",
    "\n",
    "class Car(Vehicle):\n",
    "    def move(self):\n",
    "        print(\"Car is driving on the road\")\n",
    "\n",
    "class Bike(Vehicle):\n",
    "    def move(self):\n",
    "        print(\"Bike is riding on the path\")\n",
    "\n",
    "vehicle = Vehicle()\n",
    "car = Car()\n",
    "bike = Bike()\n",
    "\n",
    "vehicle.move() \n",
    "car.move()      \n",
    "bike.move()     "
   ]
  },
  {
   "cell_type": "code",
   "execution_count": 16,
   "id": "6e6c26d8",
   "metadata": {},
   "outputs": [
    {
     "name": "stdout",
     "output_type": "stream",
     "text": [
      "LivingBeing is created\n",
      "Animal is created\n",
      "Dog is created\n",
      "Alive: True, Has legs: True, Barks: True\n",
      "Breathing\n",
      "Eating\n",
      "Woof!\n"
     ]
    }
   ],
   "source": [
    "class LivingBeing:\n",
    "    def __init__(self):\n",
    "        self.alive = True\n",
    "        print(\"LivingBeing is created\")\n",
    "\n",
    "    def breathe(self):\n",
    "        print(\"Breathing\")\n",
    "\n",
    "class Animal(LivingBeing):\n",
    "    def __init__(self):\n",
    "        super().__init__()\n",
    "        self.has_legs = True\n",
    "        print(\"Animal is created\")\n",
    "\n",
    "    def eat(self):\n",
    "        print(\"Eating\")\n",
    "\n",
    "class Dog(Animal):\n",
    "    def __init__(self):\n",
    "        super().__init__()\n",
    "        self.barks = True\n",
    "        print(\"Dog is created\")\n",
    "\n",
    "    def bark(self):\n",
    "        print(\"Woof!\")\n",
    "\n",
    "# Test the classes\n",
    "dog = Dog()\n",
    "print(f\"Alive: {dog.alive}, Has legs: {dog.has_legs}, Barks: {dog.barks}\")\n",
    "dog.breathe() \n",
    "dog.eat()      \n",
    "dog.bark()     "
   ]
  },
  {
   "cell_type": "code",
   "execution_count": null,
   "id": "a63c6215",
   "metadata": {},
   "outputs": [
    {
     "name": "stdout",
     "output_type": "stream",
     "text": [
      "Father's skills: Fixing cars\n",
      "Child's skills: Playing games\n",
      "[<class '__main__.Child'>, <class '__main__.Father'>, <class '__main__.Mother'>, <class 'object'>]\n"
     ]
    }
   ],
   "source": [
    "class Father:\n",
    "    def skills(self):\n",
    "        print(\"Father's skills: Fixing cars\")\n",
    "\n",
    "class Mother:\n",
    "    def skills(self):\n",
    "        print(\"Mother's skills: Cooking\")\n",
    "\n",
    "class Child(Father, Mother):\n",
    "    def skills(self):\n",
    "        super().skills() \n",
    "        print(\"Child's skills: Playing games\")\n",
    "\n",
    "\n",
    "child = Child()\n",
    "child.skills()     \n",
    "print(Child.mro())     "
   ]
  },
  {
   "cell_type": "code",
   "execution_count": 31,
   "id": "1b369c9d",
   "metadata": {},
   "outputs": [
    {
     "name": "stdout",
     "output_type": "stream",
     "text": [
      "Balance: 1000\n",
      "PIN: 1234\n",
      "Password: secret\n",
      "1000\n",
      "1234\n",
      "secret\n"
     ]
    }
   ],
   "source": [
    "class Account:\n",
    "    def __init__(self):\n",
    "        self.balance = 1000     \n",
    "        self._pin = 1234         \n",
    "        self.__password = \"secret\"  \n",
    "\n",
    "    def show_details(self):\n",
    "        print(f\"Balance: {self.balance}\")\n",
    "        print(f\"PIN: {self._pin}\")\n",
    "        print(f\"Password: {self.__password}\")\n",
    "\n",
    "account = Account()\n",
    "account.show_details() \n",
    "\n",
    "print(account.balance)\n",
    "print(account._pin)\n",
    "print(account._Account__password)  "
   ]
  },
  {
   "cell_type": "code",
   "execution_count": null,
   "id": "81a13113",
   "metadata": {},
   "outputs": [
    {
     "name": "stdout",
     "output_type": "stream",
     "text": [
      "Department: Computer Science\n"
     ]
    }
   ],
   "source": [
    "class University:\n",
    "    def __init__(self, uni_name):\n",
    "        self.uni_name = uni_name\n",
    "\n",
    "    class Department:  \n",
    "        def __init__(self, dept_name):\n",
    "            self.dept_name = dept_name\n",
    "\n",
    "        def show_department(self):\n",
    "            print(\"Department:\", self.dept_name)\n",
    "\n",
    "uni = University(\"ABC University\")\n",
    "\n",
    "dept = uni.Department(\"Computer Science\")\n",
    "\n",
    "dept.show_department()\n"
   ]
  },
  {
   "cell_type": "code",
   "execution_count": 18,
   "id": "297ca593",
   "metadata": {},
   "outputs": [
    {
     "name": "stdout",
     "output_type": "stream",
     "text": [
      "Course: AI/ML, Teacher: Ms, Gulshan\n"
     ]
    }
   ],
   "source": [
    "# part 1 association\n",
    "class Teacher:\n",
    "    def __init__(self, name):\n",
    "        self.name = name\n",
    "\n",
    "class Course:\n",
    "    def __init__(self, title):\n",
    "        self.title = title\n",
    "        self.teacher = None \n",
    "\n",
    "    def assign_teacher(self, teacher):\n",
    "        self.teacher = teacher\n",
    "\n",
    "    def show_details(self):\n",
    "        print(f\"Course: {self.title}, Teacher: {self.teacher.name}\")\n",
    "        \n",
    "t1 = Teacher(\"Ms, Gulshan\")\n",
    "c1 = Course(\"AI/ML\")\n",
    "\n",
    "# print(t1.name)\n",
    "c1.assign_teacher(t1)\n",
    "c1.show_details()\n"
   ]
  },
  {
   "cell_type": "code",
   "execution_count": 15,
   "id": "810decc2",
   "metadata": {},
   "outputs": [
    {
     "name": "stdout",
     "output_type": "stream",
     "text": [
      "School: ABC High School\n",
      " - sajid\n",
      " - ali\n"
     ]
    }
   ],
   "source": [
    "# part 2 aggregation\n",
    "class Student:\n",
    "    def __init__(self, name):\n",
    "        self.name = name\n",
    "\n",
    "class School:\n",
    "    def __init__(self, school_name):\n",
    "        self.school_name = school_name\n",
    "        self.students = []  # list of students\n",
    "\n",
    "    def add_student(self, student):\n",
    "        self.students.append(student)\n",
    "\n",
    "    def show_students(self):\n",
    "        print(f\"School: {self.school_name}\")\n",
    "        for s in self.students:\n",
    "            print(f\" - {s.name}\")\n",
    "\n",
    "s1 = Student(\"sajid\")\n",
    "s2 = Student(\"ali\")\n",
    "\n",
    "school = School(\"ABC High School\")\n",
    "school.add_student(s1)\n",
    "school.add_student(s2)\n",
    "\n",
    "school.show_students()\n"
   ]
  },
  {
   "cell_type": "code",
   "execution_count": null,
   "id": "b379e10a",
   "metadata": {},
   "outputs": [
    {
     "name": "stdout",
     "output_type": "stream",
     "text": [
      "Car Model: Toyota Corolla\n",
      "Engine with 130 HP started.\n"
     ]
    }
   ],
   "source": [
    "# part 3 composition\n",
    "class Engine:\n",
    "    def __init__(self, horsepower):\n",
    "        self.horsepower = horsepower\n",
    "\n",
    "    def start(self):\n",
    "        print(f\"Engine with {self.horsepower} HP started.\")\n",
    "\n",
    "class Car:\n",
    "    def __init__(self, model, horsepower):\n",
    "        self.model = model\n",
    "        self.engine = Engine(horsepower)\n",
    "\n",
    "    def start_car(self):\n",
    "        print(f\"Car Model: {self.model}\")\n",
    "        self.engine.start()\n",
    "car = Car(\"Toyota Corolla\", 130)\n",
    "car.start_car()\n"
   ]
  },
  {
   "cell_type": "code",
   "execution_count": null,
   "id": "96020ae1",
   "metadata": {},
   "outputs": [],
   "source": []
  }
 ],
 "metadata": {
  "kernelspec": {
   "display_name": ".venv (3.12.3)",
   "language": "python",
   "name": "python3"
  },
  "language_info": {
   "codemirror_mode": {
    "name": "ipython",
    "version": 3
   },
   "file_extension": ".py",
   "mimetype": "text/x-python",
   "name": "python",
   "nbconvert_exporter": "python",
   "pygments_lexer": "ipython3",
   "version": "3.12.3"
  }
 },
 "nbformat": 4,
 "nbformat_minor": 5
}
