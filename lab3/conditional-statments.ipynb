{
 "cells": [
  {
   "cell_type": "code",
   "execution_count": 9,
   "id": "e9d81443",
   "metadata": {},
   "outputs": [
    {
     "name": "stdout",
     "output_type": "stream",
     "text": [
      "equal\n"
     ]
    }
   ],
   "source": [
    "a =2 \n",
    "b = 3\n",
    "c = 1\n",
    "if a & b & c == 0:\n",
    "    print(\"equal\")\n",
    "else:\n",
    "    print(\"not equal\")"
   ]
  },
  {
   "cell_type": "code",
   "execution_count": 18,
   "id": "f3a21841",
   "metadata": {},
   "outputs": [
    {
     "name": "stdout",
     "output_type": "stream",
     "text": [
      "0\n",
      "1\n",
      "2\n",
      "3\n",
      "4\n",
      "5\n",
      "hellow\n"
     ]
    }
   ],
   "source": [
    "for x in range(6):\n",
    "    print(x)\n",
    "else:\n",
    "    print(\"hellow\")"
   ]
  },
  {
   "cell_type": "code",
   "execution_count": 21,
   "id": "e81a1193",
   "metadata": {},
   "outputs": [
    {
     "name": "stdout",
     "output_type": "stream",
     "text": [
      "['kiwi', 'apple', 'mango', 'banana']\n"
     ]
    }
   ],
   "source": [
    "fruits = [\"apple\", \"banana\", \"kiwi\", \"mango\"]\n",
    "# fruits.sort(key=lambda fruit: len(fruit))\n",
    "fruits.sort(key=lambda fruit: len(fruit))\n",
    "# print(fruits)\n",
    "print(fruits)"
   ]
  },
  {
   "cell_type": "code",
   "execution_count": 23,
   "id": "f46e972b",
   "metadata": {},
   "outputs": [
    {
     "name": "stdout",
     "output_type": "stream",
     "text": [
      "['KIWI', 'APPLE', 'MANGO', 'BANANA']\n"
     ]
    }
   ],
   "source": [
    "upper = lambda up : up.upper()\n",
    "print([upper(n) for n in fruits])"
   ]
  },
  {
   "cell_type": "code",
   "execution_count": 26,
   "id": "1f9c97a7",
   "metadata": {},
   "outputs": [
    {
     "name": "stdout",
     "output_type": "stream",
     "text": [
      "0\n",
      "1\n",
      "2\n",
      "3\n",
      "4\n",
      "5\n"
     ]
    }
   ],
   "source": [
    "for x in range (6):\n",
    "    if x == 4:\n",
    "        pass\n",
    "    print(x)"
   ]
  },
  {
   "cell_type": "code",
   "execution_count": 29,
   "id": "af771010",
   "metadata": {},
   "outputs": [
    {
     "name": "stdout",
     "output_type": "stream",
     "text": [
      "1\n",
      "2\n",
      "4\n",
      "5\n",
      "6\n"
     ]
    }
   ],
   "source": [
    "i = 0\n",
    "while i < 6:\n",
    "    i+=1\n",
    "    if i == 3:\n",
    "        continue\n",
    "    print(i)"
   ]
  },
  {
   "cell_type": "code",
   "execution_count": 30,
   "id": "e49f1e1a",
   "metadata": {},
   "outputs": [
    {
     "name": "stdout",
     "output_type": "stream",
     "text": [
      "1\n"
     ]
    }
   ],
   "source": [
    "print(-5%2)"
   ]
  },
  {
   "cell_type": "code",
   "execution_count": 33,
   "id": "127f3c47",
   "metadata": {},
   "outputs": [
    {
     "name": "stdout",
     "output_type": "stream",
     "text": [
      "Small Positive (<10)\n"
     ]
    }
   ],
   "source": [
    "##Task 1\n",
    "num = int(input(\"Enter a number: \"))\n",
    "\n",
    "if num < 0:\n",
    "    print(\"Negative\")\n",
    "elif num == 0:\n",
    "    print(\"Zero\")\n",
    "elif num < 10:\n",
    "    print(\"Small Positive (<10)\")\n",
    "else:\n",
    "    print(\"Large Positive (>=10)\")"
   ]
  },
  {
   "cell_type": "code",
   "execution_count": 34,
   "id": "f41933fd",
   "metadata": {},
   "outputs": [
    {
     "name": "stdout",
     "output_type": "stream",
     "text": [
      "Invalid marks! Please enter a value between 0 and 100.\n"
     ]
    }
   ],
   "source": [
    "# task 2 implementing nested condtions\n",
    "marks = int(input(\"Enter student's marks (0-100): \"))\n",
    "\n",
    "if marks < 0 or marks > 100:\n",
    "    print(\"Invalid marks! Please enter a value between 0 and 100.\")\n",
    "else:\n",
    "    if marks >= 90:\n",
    "        print(\"Grade: A\")\n",
    "    else:\n",
    "        if marks >= 75:\n",
    "            print(\"Grade: B\")\n",
    "        else:\n",
    "            if marks >= 60:\n",
    "                print(\"Grade: C\")\n",
    "            else:\n",
    "                if marks >= 40:\n",
    "                    print(\"Grade: D\")\n",
    "                else:\n",
    "                    print(\"Grade: F\")\n",
    "\n"
   ]
  },
  {
   "cell_type": "code",
   "execution_count": 39,
   "id": "b7189c12",
   "metadata": {},
   "outputs": [
    {
     "name": "stdout",
     "output_type": "stream",
     "text": [
      "Iteration 1: Loss = 1.000\n",
      "Iteration 2: Loss = 0.800\n",
      "Iteration 3: Loss = 0.640\n",
      "Iteration 4: Loss = 0.512\n",
      "Iteration 5: Loss = 0.410\n",
      "Iteration 6: Loss = 0.328\n",
      "Iteration 7: Loss = 0.262\n",
      "Iteration 8: Loss = 0.210\n",
      "Iteration 9: Loss = 0.168\n",
      "Iteration 10: Loss = 0.134\n",
      "Iteration 11: Loss = 0.107\n",
      "Iteration 12: Loss = 0.086\n",
      "Iteration 13: Loss = 0.069\n",
      "Iteration 14: Loss = 0.055\n",
      "Training complete! Final Loss = 0.044\n"
     ]
    }
   ],
   "source": [
    "#task 3 implenting while loops\n",
    "loss = 1.0\n",
    "iteration = 1\n",
    "\n",
    "while loss >= 0.05:\n",
    "    print(f\"Iteration {iteration}: Loss = {loss:.3f}\")\n",
    "    loss *= 0.8  \n",
    "    iteration += 1\n",
    "print(f\"Training complete! Final Loss = {loss:.3f}\")\n"
   ]
  },
  {
   "cell_type": "code",
   "execution_count": 43,
   "id": "d69c1eb4",
   "metadata": {},
   "outputs": [
    {
     "name": "stdout",
     "output_type": "stream",
     "text": [
      "my name is sheryar\n",
      "country is pakistan\n",
      "this is gilgit baltistan\n",
      "code is fun\n"
     ]
    }
   ],
   "source": [
    "# task4 implementing for loop\n",
    "sentences = [\"my name is sheryar\", \"country is pakistan\", \"this is gilgit baltistan\", \"code is fun\", \"do code\"]\n",
    "\n",
    "for sentence in sentences:\n",
    "    words = sentence.split()\n",
    "    if len(words) < 3:\n",
    "        continue\n",
    "    print(sentence)"
   ]
  },
  {
   "cell_type": "code",
   "execution_count": 44,
   "id": "a895a46f",
   "metadata": {},
   "outputs": [
    {
     "name": "stdout",
     "output_type": "stream",
     "text": [
      "Goodbye! Have a great day!\n"
     ]
    }
   ],
   "source": [
    "# task 5 implenting match statements\n",
    "command = input(\"Enter a command (hello/bye/help): \").lower()\n",
    "\n",
    "match command:\n",
    "    case \"hello\":\n",
    "        print(\"Hi there! How can I help you?\")\n",
    "    case \"bye\":\n",
    "        print(\"Goodbye! Have a great day!\")\n",
    "    case \"help\":\n",
    "        print(\"Available commands: hello, bye, help\")\n",
    "    case _:\n",
    "        print(\"Command not recognized\")"
   ]
  },
  {
   "cell_type": "code",
   "execution_count": null,
   "id": "ebf71fbc",
   "metadata": {},
   "outputs": [
    {
     "name": "stdout",
     "output_type": "stream",
     "text": [
      "1 x 1 = 1\n",
      "1 x 2 = 2\n",
      "1 x 3 = 3\n",
      "1 x 4 = 4\n",
      "1 x 5 = 5\n",
      "1 x 6 = 6\n",
      "1 x 7 = 7\n",
      "1 x 8 = 8\n",
      "1 x 9 = 9\n",
      "1 x 10 = 10\n",
      "\n",
      "2 x 1 = 2\n",
      "2 x 2 = 4\n",
      "2 x 3 = 6\n",
      "2 x 4 = 8\n",
      "2 x 5 = 10\n",
      "2 x 6 = 12\n",
      "2 x 7 = 14\n",
      "2 x 8 = 16\n",
      "2 x 9 = 18\n",
      "2 x 10 = 20\n",
      "\n",
      "3 x 1 = 3\n",
      "3 x 2 = 6\n",
      "3 x 3 = 9\n",
      "3 x 4 = 12\n",
      "3 x 5 = 15\n",
      "3 x 6 = 18\n",
      "3 x 7 = 21\n",
      "3 x 8 = 24\n",
      "3 x 9 = 27\n",
      "3 x 10 = 30\n",
      "\n",
      "4 x 1 = 4\n",
      "4 x 2 = 8\n",
      "4 x 3 = 12\n",
      "4 x 4 = 16\n",
      "4 x 5 = 20\n",
      "4 x 6 = 24\n",
      "4 x 7 = 28\n",
      "4 x 8 = 32\n",
      "4 x 9 = 36\n",
      "4 x 10 = 40\n",
      "\n",
      "5 x 1 = 5\n",
      "5 x 2 = 10\n",
      "5 x 3 = 15\n",
      "5 x 4 = 20\n",
      "5 x 5 = 25\n",
      "5 x 6 = 30\n",
      "5 x 7 = 35\n",
      "5 x 8 = 40\n",
      "5 x 9 = 45\n",
      "5 x 10 = 50\n",
      "\n",
      "6 x 1 = 6\n",
      "6 x 2 = 12\n",
      "6 x 3 = 18\n",
      "6 x 4 = 24\n",
      "6 x 5 = 30\n",
      "6 x 6 = 36\n",
      "6 x 7 = 42\n",
      "6 x 8 = 48\n",
      "\n",
      "7 x 1 = 7\n",
      "7 x 2 = 14\n",
      "7 x 3 = 21\n",
      "7 x 4 = 28\n",
      "7 x 5 = 35\n",
      "7 x 6 = 42\n",
      "7 x 7 = 49\n",
      "\n",
      "8 x 1 = 8\n",
      "8 x 2 = 16\n",
      "8 x 3 = 24\n",
      "8 x 4 = 32\n",
      "8 x 5 = 40\n",
      "8 x 6 = 48\n",
      "\n",
      "9 x 1 = 9\n",
      "9 x 2 = 18\n",
      "9 x 3 = 27\n",
      "9 x 4 = 36\n",
      "9 x 5 = 45\n",
      "\n",
      "10 x 1 = 10\n",
      "10 x 2 = 20\n",
      "10 x 3 = 30\n",
      "10 x 4 = 40\n",
      "10 x 5 = 50\n",
      "\n"
     ]
    }
   ],
   "source": [
    "#task 6 implementing nested loops\n",
    "for i in range(1, 11):\n",
    "    for j in range(1, 11):\n",
    "        product = i * j\n",
    "        if product > 50:\n",
    "            break\n",
    "        print(f\"{i} x {j} = {product}\")\n",
    "    print()"
   ]
  },
  {
   "cell_type": "code",
   "execution_count": null,
   "id": "fc06650f",
   "metadata": {},
   "outputs": [
    {
     "name": "stdout",
     "output_type": "stream",
     "text": [
      "[4, 16, 36]\n"
     ]
    }
   ],
   "source": [
    "# task 7 implemnting list comprehension\n",
    "numbers = [1, 2, 3, 4, 5, 6]\n",
    "squares = [x**2 for x in numbers if x % 2 == 0]\n",
    "\n",
    "print(squares)\n",
    "\n"
   ]
  },
  {
   "cell_type": "code",
   "execution_count": 55,
   "id": "2bd10385",
   "metadata": {},
   "outputs": [
    {
     "name": "stdout",
     "output_type": "stream",
     "text": [
      "Rank 1 - ahtisham : 95\n",
      "Rank 2 - sheryar : 92\n",
      "Rank 3 - Ali : 85\n",
      "Rank 4 - sajid : 78\n"
     ]
    }
   ],
   "source": [
    "# task 8 enumerate students\n",
    "\n",
    "students = {\"Ali\": 85, \"sheryar\": 92, \"sajid\": 78, \"ahtisham\": 95}\n",
    "\n",
    "def get_score(item):\n",
    "    return item[1]\n",
    "\n",
    "student_list = list(students.items())\n",
    "student_list.sort(key=get_score, reverse=True)\n",
    "\n",
    "for rank, (student, score) in enumerate(student_list, start=1):\n",
    "    print(\"Rank\", rank, \"-\", student, \":\", score)\n",
    "\n",
    "\n",
    "\n"
   ]
  },
  {
   "cell_type": "code",
   "execution_count": 56,
   "id": "f783a7a6",
   "metadata": {},
   "outputs": [
    {
     "name": "stdout",
     "output_type": "stream",
     "text": [
      "42 → Numeric value\n",
      "'hello' → Text value\n",
      "[1, 2, 3] → Sequence of length 3\n",
      "{'key': 'value'} → Unknown type\n"
     ]
    }
   ],
   "source": [
    "# task 9  implementing match\n",
    "\n",
    "\n",
    "def process_items(dataset):\n",
    "    for item in dataset:\n",
    "        match item:\n",
    "            case int() | float():  # numbers\n",
    "                print(f\"{item} → Numeric value\")\n",
    "            case str():\n",
    "                print(f\"'{item}' → Text value\")\n",
    "            case list() as seq:\n",
    "                print(f\"{seq} → Sequence of length {len(seq)}\")\n",
    "            case _:\n",
    "                print(f\"{item} → Unknown type\")\n",
    "\n",
    "# Example dataset\n",
    "data = [42, \"hello\", [1, 2, 3], {\"key\": \"value\"}]\n",
    "process_items(data)\n"
   ]
  },
  {
   "cell_type": "code",
   "execution_count": 58,
   "id": "5029bfab",
   "metadata": {},
   "outputs": [
    {
     "name": "stdout",
     "output_type": "stream",
     "text": [
      "[0, 1, 1, 2, 3, 5, 8, 13, 21, 34]\n"
     ]
    }
   ],
   "source": [
    "# task 10 implementing fibunachi\n",
    "def fibonacci(n):\n",
    "    a, b = 0, 1\n",
    "    fib_list = []\n",
    "    for i in range(n):\n",
    "        fib_list.append(a)\n",
    "        a, b = b, a + b\n",
    "    return fib_list\n",
    "fib_list = fibonacci(10)\n",
    "print(fib_list)\n",
    "\n"
   ]
  },
  {
   "cell_type": "code",
   "execution_count": null,
   "id": "c1ee0c97",
   "metadata": {},
   "outputs": [],
   "source": []
  }
 ],
 "metadata": {
  "kernelspec": {
   "display_name": ".venv (3.12.3)",
   "language": "python",
   "name": "python3"
  },
  "language_info": {
   "codemirror_mode": {
    "name": "ipython",
    "version": 3
   },
   "file_extension": ".py",
   "mimetype": "text/x-python",
   "name": "python",
   "nbconvert_exporter": "python",
   "pygments_lexer": "ipython3",
   "version": "3.12.3"
  }
 },
 "nbformat": 4,
 "nbformat_minor": 5
}
