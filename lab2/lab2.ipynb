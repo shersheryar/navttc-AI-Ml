{
 "cells": [
  {
   "cell_type": "markdown",
   "id": "f95345c8",
   "metadata": {},
   "source": [
    "# list"
   ]
  },
  {
   "cell_type": "code",
   "execution_count": 1,
   "id": "d6b932f5",
   "metadata": {},
   "outputs": [
    {
     "name": "stdout",
     "output_type": "stream",
     "text": [
      "Second fruit: banana\n",
      "Is 'apple' in the list? True\n"
     ]
    }
   ],
   "source": [
    "# task 1\n",
    "fruits = [\"apple\", \"banana\", \"orange\", \"grape\", \"pear\"]\n",
    "print(\"Second fruit:\", fruits[1])\n",
    "print(\"Is 'apple' in the list?\", \"apple\" in fruits)"
   ]
  },
  {
   "cell_type": "code",
   "execution_count": null,
   "id": "7c48648b",
   "metadata": {},
   "outputs": [
    {
     "name": "stdout",
     "output_type": "stream",
     "text": [
      "Updated list: ['apple', 'grape', 'mango', 'orange', 'pear']\n"
     ]
    }
   ],
   "source": [
    "# task 2\n",
    "fruits.append(\"mango\")\n",
    "fruits.remove(\"banana\") \n",
    "fruits.sort()\n",
    "print(\"Updated list:\", fruits)"
   ]
  },
  {
   "cell_type": "code",
   "execution_count": 3,
   "id": "99fe00b3",
   "metadata": {},
   "outputs": [
    {
     "name": "stdout",
     "output_type": "stream",
     "text": [
      "Joined list: [1, 2, 3, 4, 5, 6]\n"
     ]
    }
   ],
   "source": [
    "# task 3\n",
    "list1 = [1, 2, 3]\n",
    "list2 = [4, 5, 6]\n",
    "joined_list = list1 + list2\n",
    "print(\"Joined list:\", joined_list)"
   ]
  },
  {
   "cell_type": "markdown",
   "id": "8d416627",
   "metadata": {},
   "source": [
    "# tuples"
   ]
  },
  {
   "cell_type": "code",
   "execution_count": 4,
   "id": "c5918fa0",
   "metadata": {},
   "outputs": [
    {
     "name": "stdout",
     "output_type": "stream",
     "text": [
      "First element: 10\n",
      "Last element: 50\n"
     ]
    }
   ],
   "source": [
    "# task 1\n",
    "numbers = (10, 20, 30, 40, 50)\n",
    "print(\"First element:\", numbers[0])\n",
    "print(\"Last element:\", numbers[-1])"
   ]
  },
  {
   "cell_type": "code",
   "execution_count": 7,
   "id": "31aab585",
   "metadata": {},
   "outputs": [
    {
     "name": "stdout",
     "output_type": "stream",
     "text": [
      "Index of 30: 2\n"
     ]
    }
   ],
   "source": [
    "# task 2\n",
    "numbers = (10, 20, 30, 40, 50)\n",
    "index_of_30 = numbers.index(30)\n",
    "print(\"Index of 30:\", index_of_30)"
   ]
  },
  {
   "cell_type": "code",
   "execution_count": 8,
   "id": "2d71b8ae",
   "metadata": {},
   "outputs": [
    {
     "name": "stdout",
     "output_type": "stream",
     "text": [
      "Updated tuple: (10, 20, 30, 40, 50, 60)\n"
     ]
    }
   ],
   "source": [
    "# task 3\n",
    "numbers = (10, 20, 30, 40, 50)\n",
    "num_list = list(numbers)\n",
    "num_list.append(60)\n",
    "numbers = tuple(num_list)\n",
    "print(\"Updated tuple:\", numbers)"
   ]
  },
  {
   "cell_type": "markdown",
   "id": "b1428241",
   "metadata": {},
   "source": [
    "# Dictionaries"
   ]
  },
  {
   "cell_type": "code",
   "execution_count": 12,
   "id": "4ccc7d93",
   "metadata": {},
   "outputs": [
    {
     "name": "stdout",
     "output_type": "stream",
     "text": [
      "Name: Ali\n"
     ]
    }
   ],
   "source": [
    "# task 1\n",
    "person = {\"name\": \"Ali\", \"age\": 25, \"city\": \"Gilgit\"}\n",
    "print(\"Name:\", person[\"name\"])"
   ]
  },
  {
   "cell_type": "code",
   "execution_count": 13,
   "id": "182ce801",
   "metadata": {},
   "outputs": [
    {
     "name": "stdout",
     "output_type": "stream",
     "text": [
      "Updated dictionary: {'name': 'Ali', 'age': 26, 'city': 'Gilgit', 'country': 'Pakistan'}\n"
     ]
    }
   ],
   "source": [
    "# task 2\n",
    "person = {\"name\": \"Ali\", \"age\": 25, \"city\": \"Gilgit\"}\n",
    "person[\"country\"] = \"Pakistan\"\n",
    "person[\"age\"] = 26\n",
    "print(\"Updated dictionary:\", person)"
   ]
  },
  {
   "cell_type": "code",
   "execution_count": 14,
   "id": "e3b9f247",
   "metadata": {},
   "outputs": [
    {
     "name": "stdout",
     "output_type": "stream",
     "text": [
      "name : Ali\n",
      "age : 25\n",
      "city : Gilgit\n"
     ]
    }
   ],
   "source": [
    "# task 3\n",
    "person = {\"name\": \"Ali\", \"age\": 25, \"city\": \"Gilgit\"}\n",
    "for key, value in person.items():\n",
    "    print(key, \":\", value)"
   ]
  },
  {
   "cell_type": "markdown",
   "id": "0978bddf",
   "metadata": {},
   "source": [
    "# sets"
   ]
  },
  {
   "cell_type": "code",
   "execution_count": 15,
   "id": "d5d838b0",
   "metadata": {},
   "outputs": [
    {
     "name": "stdout",
     "output_type": "stream",
     "text": [
      "Is 3 in the set? True\n"
     ]
    }
   ],
   "source": [
    "# task 1\n",
    "numbers_set = {1, 2, 3, 4, 5}\n",
    "print(\"Is 3 in the set?\", 3 in numbers_set)"
   ]
  },
  {
   "cell_type": "code",
   "execution_count": 18,
   "id": "42a531aa",
   "metadata": {},
   "outputs": [
    {
     "name": "stdout",
     "output_type": "stream",
     "text": [
      "Updated set: {1, 3, 4, 5, 6}\n"
     ]
    }
   ],
   "source": [
    "# task 2\n",
    "numbers_set = {1, 2, 3, 4, 5}\n",
    "numbers_set.add(6)\n",
    "numbers_set.remove(2)\n",
    "print(\"Updated set:\", numbers_set)"
   ]
  },
  {
   "cell_type": "code",
   "execution_count": 20,
   "id": "80185da3",
   "metadata": {},
   "outputs": [
    {
     "name": "stdout",
     "output_type": "stream",
     "text": [
      "Union: {1, 2, 3, 4, 5, 6}\n",
      "Intersection: {3, 4}\n",
      "Difference: {1, 2}\n"
     ]
    }
   ],
   "source": [
    "# task 3\n",
    "set1 = {1, 2, 3, 4}\n",
    "set2 = {3, 4, 5, 6}\n",
    "print(\"Union:\", set1.union(set2))\n",
    "print(\"Intersection:\", set1.intersection(set2))\n",
    "print(\"Difference:\", set1.difference(set2))"
   ]
  },
  {
   "cell_type": "code",
   "execution_count": null,
   "id": "3b223c7c",
   "metadata": {},
   "outputs": [],
   "source": []
  }
 ],
 "metadata": {
  "kernelspec": {
   "display_name": ".venv (3.12.3)",
   "language": "python",
   "name": "python3"
  },
  "language_info": {
   "codemirror_mode": {
    "name": "ipython",
    "version": 3
   },
   "file_extension": ".py",
   "mimetype": "text/x-python",
   "name": "python",
   "nbconvert_exporter": "python",
   "pygments_lexer": "ipython3",
   "version": "3.12.3"
  }
 },
 "nbformat": 4,
 "nbformat_minor": 5
}
