{
 "cells": [
  {
   "cell_type": "code",
   "execution_count": null,
   "id": "bb101fd0",
   "metadata": {},
   "outputs": [],
   "source": []
  },
  {
   "cell_type": "markdown",
   "id": "dd410f6a",
   "metadata": {},
   "source": [
    "# SVM Code"
   ]
  },
  {
   "cell_type": "code",
   "execution_count": 2,
   "id": "a3f1b480",
   "metadata": {},
   "outputs": [],
   "source": [
    "import numpy as np\n",
    "import pandas as pd\n",
    "from sklearn import datasets\n",
    "from sklearn.model_selection import train_test_split, GridSearchCV\n",
    "from sklearn.preprocessing import StandardScaler\n",
    "from sklearn.svm import SVC\n",
    "from sklearn.metrics import (\n",
    "    accuracy_score,\n",
    "    classification_report,\n",
    "    confusion_matrix,\n",
    "    precision_score,\n",
    "    recall_score,\n",
    "    f1_score,\n",
    ")\n",
    "import joblib\n",
    "import matplotlib.pyplot as plt"
   ]
  },
  {
   "cell_type": "code",
   "execution_count": 14,
   "id": "8e61f059",
   "metadata": {},
   "outputs": [],
   "source": [
    "data = datasets.load_iris()\n",
    "X = data.data\n",
    "y = data.target\n",
    "class_names = data.target_names\n",
    "scaler = StandardScaler()\n",
    "X_train_scaled = scaler.fit_transform(X_train)\n",
    "X_test_scaled = scaler.transform(X_test)"
   ]
  },
  {
   "cell_type": "code",
   "execution_count": 15,
   "id": "9e1e18aa",
   "metadata": {},
   "outputs": [],
   "source": [
    "X_train, X_test, y_train, y_test = train_test_split(\n",
    "    X, y, test_size=0.2, random_state=42, stratify=y\n",
    ")"
   ]
  },
  {
   "cell_type": "code",
   "execution_count": 16,
   "id": "a0ca8537",
   "metadata": {},
   "outputs": [],
   "source": [
    "svc = SVC(probability=True, random_state=42)\n",
    "\n",
    "param_grid = {\n",
    "    \"C\": [0.1, 1, 10],\n",
    "    \"kernel\": [\"rbf\", \"linear\", \"poly\"],\n",
    "    \"gamma\": [\"scale\", \"auto\"],\n",
    "    # \"degree\": [2,3]  # only needed if kernel='poly'\n",
    "}"
   ]
  },
  {
   "cell_type": "code",
   "execution_count": 17,
   "id": "9ea7211b",
   "metadata": {},
   "outputs": [],
   "source": [
    "\n",
    "grid = GridSearchCV(\n",
    "    estimator=svc,\n",
    "    param_grid=param_grid,\n",
    "    scoring=\"accuracy\",\n",
    "    cv=5,\n",
    "    n_jobs=-1,\n",
    "    verbose=1,\n",
    ")\n"
   ]
  },
  {
   "cell_type": "code",
   "execution_count": 18,
   "id": "2fc015f0",
   "metadata": {},
   "outputs": [
    {
     "name": "stdout",
     "output_type": "stream",
     "text": [
      "Fitting 5 folds for each of 18 candidates, totalling 90 fits\n",
      "Best params: {'C': 0.1, 'gamma': 'scale', 'kernel': 'linear'}\n",
      "Best CV accuracy: 0.975\n"
     ]
    }
   ],
   "source": [
    "\n",
    "grid.fit(X_train_scaled, y_train)\n",
    "\n",
    "print(\"Best params:\", grid.best_params_)\n",
    "print(\"Best CV accuracy:\", grid.best_score_)\n",
    "\n",
    "best_svc = grid.best_estimator_"
   ]
  },
  {
   "cell_type": "code",
   "execution_count": 19,
   "id": "67d965e6",
   "metadata": {},
   "outputs": [
    {
     "name": "stdout",
     "output_type": "stream",
     "text": [
      "\n",
      "Test Accuracy: 0.9333\n",
      "\n",
      "Classification Report:\n",
      "              precision    recall  f1-score   support\n",
      "\n",
      "      setosa       1.00      1.00      1.00        10\n",
      "  versicolor       0.90      0.90      0.90        10\n",
      "   virginica       0.90      0.90      0.90        10\n",
      "\n",
      "    accuracy                           0.93        30\n",
      "   macro avg       0.93      0.93      0.93        30\n",
      "weighted avg       0.93      0.93      0.93        30\n",
      "\n",
      "Confusion Matrix:\n",
      " [[10  0  0]\n",
      " [ 0  9  1]\n",
      " [ 0  1  9]]\n"
     ]
    }
   ],
   "source": [
    "y_pred = best_svc.predict(X_test_scaled)\n",
    "y_proba = best_svc.predict_proba(X_test_scaled)  # if you need probabilities\n",
    "\n",
    "acc = accuracy_score(y_test, y_pred)\n",
    "print(f\"\\nTest Accuracy: {acc:.4f}\\n\")\n",
    "\n",
    "print(\"Classification Report:\")\n",
    "print(classification_report(y_test, y_pred, target_names=class_names))\n",
    "\n",
    "cm = confusion_matrix(y_test, y_pred)\n",
    "print(\"Confusion Matrix:\\n\", cm)"
   ]
  },
  {
   "cell_type": "code",
   "execution_count": 20,
   "id": "d09da0a1",
   "metadata": {},
   "outputs": [
    {
     "name": "stdout",
     "output_type": "stream",
     "text": [
      "\n",
      "Per-class TP/FP/FN/TN:\n",
      "{'class': 0, 'TP': np.int64(10), 'FP': np.int64(0), 'FN': np.int64(0), 'TN': np.int64(20)}\n",
      "{'class': 1, 'TP': np.int64(9), 'FP': np.int64(1), 'FN': np.int64(1), 'TN': np.int64(19)}\n",
      "{'class': 2, 'TP': np.int64(9), 'FP': np.int64(1), 'FN': np.int64(1), 'TN': np.int64(19)}\n"
     ]
    }
   ],
   "source": [
    "def compute_confusion_elements(conf_mat):\n",
    "    \"\"\"\n",
    "    For each class i:\n",
    "      TP_i = conf_mat[i,i]\n",
    "      FP_i = sum(conf_mat[:,i]) - TP_i\n",
    "      FN_i = sum(conf_mat[i,:]) - TP_i\n",
    "      TN_i = total - TP_i - FP_i - FN_i\n",
    "    \"\"\"\n",
    "    n_classes = conf_mat.shape[0]\n",
    "    total = conf_mat.sum()\n",
    "    elems = []\n",
    "    for i in range(n_classes):\n",
    "        TP = conf_mat[i, i]\n",
    "        FP = conf_mat[:, i].sum() - TP\n",
    "        FN = conf_mat[i, :].sum() - TP\n",
    "        TN = total - TP - FP - FN\n",
    "        elems.append({\"class\": i, \"TP\": TP, \"FP\": FP, \"FN\": FN, \"TN\": TN})\n",
    "    return elems\n",
    "\n",
    "elems = compute_confusion_elements(cm)\n",
    "print(\"\\nPer-class TP/FP/FN/TN:\")\n",
    "for e in elems:\n",
    "    print(e)\n"
   ]
  },
  {
   "cell_type": "code",
   "execution_count": 21,
   "id": "054d3373",
   "metadata": {},
   "outputs": [
    {
     "name": "stdout",
     "output_type": "stream",
     "text": [
      "\n",
      "Macro   - Precision: 0.9333, Recall: 0.9333, F1: 0.9333\n",
      "Weighted- Precision: 0.9333, Recall: 0.9333, F1: 0.9333\n"
     ]
    }
   ],
   "source": [
    "precision_macro = precision_score(y_test, y_pred, average=\"macro\")\n",
    "recall_macro = recall_score(y_test, y_pred, average=\"macro\")\n",
    "f1_macro = f1_score(y_test, y_pred, average=\"macro\")\n",
    "\n",
    "precision_weighted = precision_score(y_test, y_pred, average=\"weighted\")\n",
    "recall_weighted = recall_score(y_test, y_pred, average=\"weighted\")\n",
    "f1_weighted = f1_score(y_test, y_pred, average=\"weighted\")\n",
    "\n",
    "print(\"\\nMacro   - Precision: {:.4f}, Recall: {:.4f}, F1: {:.4f}\".format(precision_macro, recall_macro, f1_macro))\n",
    "print(\"Weighted- Precision: {:.4f}, Recall: {:.4f}, F1: {:.4f}\".format(precision_weighted, recall_weighted, f1_weighted))\n"
   ]
  },
  {
   "cell_type": "code",
   "execution_count": 22,
   "id": "071b380d",
   "metadata": {},
   "outputs": [
    {
     "data": {
      "image/png": "[encoded data removed]",
      "text/plain": [
       "<Figure size 600x500 with 2 Axes>"
      ]
     },
     "metadata": {},
     "output_type": "display_data"
    }
   ],
   "source": [
    "plt.figure(figsize=(6, 5))\n",
    "plt.imshow(cm, interpolation=\"nearest\")\n",
    "plt.title(\"Confusion Matrix\")\n",
    "plt.colorbar()\n",
    "tick_marks = np.arange(len(class_names))\n",
    "plt.xticks(tick_marks, class_names, rotation=45)\n",
    "plt.yticks(tick_marks, class_names)\n",
    "plt.xlabel(\"Predicted\")\n",
    "plt.ylabel(\"True\")\n",
    "plt.tight_layout()\n",
    "plt.show()\n"
   ]
  },
  {
   "cell_type": "code",
   "execution_count": null,
   "id": "8e0c2082",
   "metadata": {},
   "outputs": [],
   "source": []
  }
 ],
 "metadata": {
  "kernelspec": {
   "display_name": ".venv (3.12.3)",
   "language": "python",
   "name": "python3"
  },
  "language_info": {
   "codemirror_mode": {
    "name": "ipython",
    "version": 3
   },
   "file_extension": ".py",
   "mimetype": "text/x-python",
   "name": "python",
   "nbconvert_exporter": "python",
   "pygments_lexer": "ipython3",
   "version": "3.12.3"
  }
 },
 "nbformat": 4,
 "nbformat_minor": 5
}
