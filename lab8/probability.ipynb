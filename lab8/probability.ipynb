{
 "cells": [
  {
   "cell_type": "code",
   "execution_count": 2,
   "id": "ad2b5a2f",
   "metadata": {},
   "outputs": [
    {
     "name": "stdout",
     "output_type": "stream",
     "text": [
      "Task 1: Estimated probability of heads: 0.484\n"
     ]
    }
   ],
   "source": [
    "import numpy as np\n",
    "import pandas as pd\n",
    "import matplotlib.pyplot as plt\n",
    "from collections import Counter\n",
    "\n",
    "\n",
    "coin_tosses = np.random.choice(['H', 'T'], size=1000)\n",
    "heads_prob = np.mean(coin_tosses == 'H')\n",
    "print(\"Task 1: Estimated probability of heads:\", heads_prob)"
   ]
  },
  {
   "cell_type": "code",
   "execution_count": null,
   "id": "9a89306d",
   "metadata": {},
   "outputs": [
    {
     "name": "stdout",
     "output_type": "stream",
     "text": [
      "Task 2: Dice outcome probabilities:\n",
      "1 its probability: 0.1663\n",
      "2 its probability: 0.1707\n",
      "3 its probability: 0.1608\n",
      "4 its probability: 0.1669\n",
      "5 its probability: 0.1705\n",
      "6 its probability: 0.1648\n"
     ]
    }
   ],
   "source": [
    "\n",
    "dice_rolls = np.random.randint(1, 7, size=10000)\n",
    "dice_probs = {i: np.mean(dice_rolls == i) for i in range(1, 7)}\n",
    "\n",
    "print(f\"Task 2: Dice outcome probabilities:\")\n",
    "for key , values in dice_probs.items():\n",
    "    print(f\"{key} its probability: {values}\")\n"
   ]
  },
  {
   "cell_type": "code",
   "execution_count": 14,
   "id": "62929f51",
   "metadata": {},
   "outputs": [
    {
     "name": "stdout",
     "output_type": "stream",
     "text": [
      "Task 3: P(Purchase | Student): 0.5\n"
     ]
    }
   ],
   "source": [
    "\n",
    "P_purchase = 0.4\n",
    "P_student = 0.2\n",
    "P_student_and_purchase = 0.1\n",
    "P_purchase_given_student = P_student_and_purchase / P_student\n",
    "print(\"Task 3: P(Purchase | Student):\", P_purchase_given_student)\n"
   ]
  },
  {
   "cell_type": "code",
   "execution_count": 15,
   "id": "796dcc25",
   "metadata": {},
   "outputs": [
    {
     "data": {
      "image/png": "[encoded data removed]",
      "text/plain": [
       "<Figure size 640x480 with 1 Axes>"
      ]
     },
     "metadata": {},
     "output_type": "display_data"
    }
   ],
   "source": [
    "\n",
    "errors = np.random.normal(loc=0, scale=1, size=1000)\n",
    "plt.hist(errors, bins=30, density=True, alpha=0.6, color='g')\n",
    "plt.title(\"Task 4: Normal Distribution of Model Errors\")\n",
    "plt.show()\n"
   ]
  },
  {
   "cell_type": "code",
   "execution_count": null,
   "id": "6a768e47",
   "metadata": {},
   "outputs": [],
   "source": [
    "# ------------------\n",
    "# Task 5: Uniform Distribution (Weight Initialization)\n",
    "# ------------------\n",
    "weights = np.random.uniform(low=-0.5, high=0.5, size=1000)\n",
    "plt.hist(weights, bins=30, density=True, alpha=0.6, color='b')\n",
    "plt.title(\"Task 5: Uniform Distribution of Weights\")\n",
    "plt.show()"
   ]
  },
  {
   "cell_type": "code",
   "execution_count": null,
   "id": "e1c9ee39",
   "metadata": {},
   "outputs": [],
   "source": [
    "\n",
    "# ------------------\n",
    "# Task 6: Bayesian Probability (Medical Diagnosis)\n",
    "# ------------------\n",
    "P_disease = 0.01\n",
    "P_no_disease = 0.99\n",
    "P_pos_given_disease = 0.99\n",
    "P_pos_given_no_disease = 0.05\n",
    "\n",
    "P_pos = (P_pos_given_disease * P_disease) + (P_pos_given_no_disease * P_no_disease)\n",
    "P_disease_given_pos = (P_pos_given_disease * P_disease) / P_pos\n",
    "print(\"Task 6: Probability of disease given positive test:\", P_disease_given_pos)\n"
   ]
  },
  {
   "cell_type": "code",
   "execution_count": null,
   "id": "06b91689",
   "metadata": {},
   "outputs": [],
   "source": [
    "# ------------------\n",
    "# Task 7: Probability Distribution Visualization (Titanic dataset)\n",
    "# ------------------\n",
    "try:\n",
    "    titanic = pd.read_csv(\"https://raw.githubusercontent.com/datasciencedojo/datasets/master/titanic.csv\")\n",
    "    ages = titanic[\"Age\"].dropna()\n",
    "    plt.hist(ages, bins=30, alpha=0.6, color='purple')\n",
    "    plt.title(\"Task 7: Distribution of Passenger Ages\")\n",
    "    plt.show()\n",
    "    print(\"Task 7: Age distribution plotted (check skew vs normal).\")\n",
    "except Exception as e:\n",
    "    print(\"Task 7: Titanic dataset could not be loaded.\")"
   ]
  },
  {
   "cell_type": "code",
   "execution_count": null,
   "id": "da4d4017",
   "metadata": {},
   "outputs": [],
   "source": [
    "\n",
    "\n",
    "# ------------------\n",
    "# Task 8: PMF in NLP (Word Frequencies)\n",
    "# ------------------\n",
    "text = \"Machine learning enables computers to learn from data. Data science and machine learning are related.\"\n",
    "words = text.lower().split()\n",
    "word_counts = Counter(words)\n",
    "total_words = sum(word_counts.values())\n",
    "pmf = {word: count / total_words for word, count in word_counts.items()}\n",
    "print(\"Task 8: PMF of words:\", pmf)"
   ]
  },
  {
   "cell_type": "code",
   "execution_count": null,
   "id": "fb3b6c72",
   "metadata": {},
   "outputs": [],
   "source": []
  },
  {
   "cell_type": "code",
   "execution_count": null,
   "id": "0334ea90",
   "metadata": {},
   "outputs": [],
   "source": []
  },
  {
   "cell_type": "code",
   "execution_count": 7,
   "id": "014dbfcc",
   "metadata": {},
   "outputs": [
    {
     "name": "stdout",
     "output_type": "stream",
     "text": [
      "[6 4 3 ... 3 6 1]\n",
      "Task 2: Dice outcome probabilities:\n",
      "1 its probability: 0.1646\n",
      "2 its probability: 0.1649\n",
      "3 its probability: 0.17\n",
      "4 its probability: 0.1686\n",
      "5 its probability: 0.1697\n",
      "6 its probability: 0.1622\n"
     ]
    }
   ],
   "source": [
    "\n",
    "dice_rolls = np.random.randint(1, 7, size=10000)\n",
    "print(dice_rolls)\n",
    "dice_probs = {i: np.mean(dice_rolls == i) for i in range(1, 7)}\n",
    "\n",
    "print(f\"Task 2: Dice outcome probabilities:\")\n",
    "for key , values in dice_probs.items():\n",
    "    print(f\"{key} its probability: {values}\")\n"
   ]
  },
  {
   "cell_type": "code",
   "execution_count": 10,
   "id": "50bb5e39",
   "metadata": {},
   "outputs": [
    {
     "name": "stdout",
     "output_type": "stream",
     "text": [
      "Task 3: P(Purchase | Student): 0.5\n"
     ]
    }
   ],
   "source": [
    "P_purchase = 0.4\n",
    "P_student = 0.2\n",
    "P_student_and_purchase = 0.1\n",
    "P_purchase_given_student = P_student_and_purchase / P_student\n",
    "print(\"Task 3: P(Purchase | Student):\", P_purchase_given_student)"
   ]
  },
  {
   "cell_type": "code",
   "execution_count": null,
   "id": "cc9befa9",
   "metadata": {},
   "outputs": [],
   "source": []
  }
 ],
 "metadata": {
  "kernelspec": {
   "display_name": ".venv (3.12.3)",
   "language": "python",
   "name": "python3"
  },
  "language_info": {
   "codemirror_mode": {
    "name": "ipython",
    "version": 3
   },
   "file_extension": ".py",
   "mimetype": "text/x-python",
   "name": "python",
   "nbconvert_exporter": "python",
   "pygments_lexer": "ipython3",
   "version": "3.12.3"
  }
 },
 "nbformat": 4,
 "nbformat_minor": 5
}
