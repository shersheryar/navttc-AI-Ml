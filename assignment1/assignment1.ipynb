{
 "cells": [
  {
   "cell_type": "markdown",
   "id": "fdf54efe",
   "metadata": {},
   "source": [
    "# Assignement"
   ]
  },
  {
   "cell_type": "code",
   "execution_count": 2,
   "id": "bd34fe11",
   "metadata": {},
   "outputs": [
    {
     "name": "stdout",
     "output_type": "stream",
     "text": [
      "\n",
      "Student Results:\n",
      "Name\t\tMath\tScience\tEnglish\tAverage\tGrade\n",
      "------------------------------------------------------------\n",
      "sheryar\t\t56\t43\t77\t58.67\tF\n",
      "ali\t\t56\t43\t66\t55.00\tF\n"
     ]
    }
   ],
   "source": [
    "\n",
    "def calculate_grade(avg):\n",
    "    if avg >= 90:\n",
    "        return \"A\"\n",
    "    elif avg >= 80:\n",
    "        return \"B\"\n",
    "    elif avg >= 70:\n",
    "        return \"C\"\n",
    "    elif avg >= 60:\n",
    "        return \"D\"\n",
    "    else:\n",
    "        return \"F\"\n",
    "\n",
    "students = {}\n",
    "n = int(input(\"Enter number of students: \"))\n",
    "for _ in range(n):\n",
    "    name = input(\"Enter student name: \")\n",
    "    math = int(input(\"Math marks: \"))\n",
    "    science = int(input(\"Science marks: \"))\n",
    "    english = int(input(\"English marks: \"))\n",
    "    students[name] = {\"Math\": math, \"Science\": science, \"English\": english}\n",
    "\n",
    "print(\"\\nStudent Results:\")\n",
    "print(\"Name\\t\\tMath\\tScience\\tEnglish\\tAverage\\tGrade\")\n",
    "print(\"-\" * 60)\n",
    "for name, marks in students.items():\n",
    "    avg = sum(marks.values()) / len(marks)\n",
    "    grade = calculate_grade(avg)\n",
    "    print(f\"{name}\\t\\t{marks['Math']}\\t{marks['Science']}\\t{marks['English']}\\t{avg:.2f}\\t{grade}\")"
   ]
  },
  {
   "cell_type": "code",
   "execution_count": 3,
   "id": "e1fe7f97",
   "metadata": {},
   "outputs": [
    {
     "name": "stdout",
     "output_type": "stream",
     "text": [
      "\n",
      "Top 5 most frequent words:\n",
      "i: 2\n",
      "in: 2\n",
      "hello: 1\n",
      "my: 1\n",
      "name: 1\n"
     ]
    }
   ],
   "source": [
    "text = input(\"\\nEnter a paragraph: \")\n",
    "with open(\"paragraph.txt\", \"w\") as f:\n",
    "    f.write(text)\n",
    "\n",
    "with open(\"paragraph.txt\", \"r\") as f:\n",
    "    words = f.read().lower().split()\n",
    "\n",
    "word_count = {}\n",
    "for word in words:\n",
    "    word_count[word] = word_count.get(word, 0) + 1\n",
    "\n",
    "top_words = sorted(word_count.items(), key=lambda x: x[1], reverse=True)[:5]\n",
    "print(\"\\nTop 5 most frequent words:\")\n",
    "for word, count in top_words:\n",
    "    print(f\"{word}: {count}\")"
   ]
  },
  {
   "cell_type": "code",
   "execution_count": 4,
   "id": "a027fa42",
   "metadata": {},
   "outputs": [
    {
     "name": "stdout",
     "output_type": "stream",
     "text": [
      "\n",
      "Prime Numbers between 1-200: [2, 3, 5, 7, 11, 13, 17, 19, 23, 29, 31, 37, 41, 43, 47, 53, 59, 61, 67, 71, 73, 79, 83, 89, 97, 101, 103, 107, 109, 113, 127, 131, 137, 139, 149, 151, 157, 163, 167, 173, 179, 181, 191, 193, 197, 199]\n",
      "Sum of primes: 4227\n"
     ]
    }
   ],
   "source": [
    "def is_prime(num):\n",
    "    if num < 2:\n",
    "        return False\n",
    "    for i in range(2, int(num**0.5) + 1):\n",
    "        if num % i == 0:\n",
    "            return False\n",
    "    return True\n",
    "\n",
    "primes = [x for x in range(1, 201) if is_prime(x)]\n",
    "print(\"\\nPrime Numbers between 1-200:\", primes)\n",
    "print(\"Sum of primes:\", sum(primes))"
   ]
  },
  {
   "cell_type": "code",
   "execution_count": 5,
   "id": "de159199",
   "metadata": {},
   "outputs": [
    {
     "name": "stdout",
     "output_type": "stream",
     "text": [
      "\n",
      "1. Check Balance\n",
      "2. Deposit\n",
      "3. Withdraw\n",
      "4. Exit\n",
      "Your balance is: 1000\n",
      "\n",
      "1. Check Balance\n",
      "2. Deposit\n",
      "3. Withdraw\n",
      "4. Exit\n"
     ]
    }
   ],
   "source": [
    "PIN = \"1234\"\n",
    "balance = 1000\n",
    "\n",
    "def check_balance():\n",
    "    print(f\"Your balance is: {balance}\")\n",
    "\n",
    "def deposit(amount):\n",
    "    global balance\n",
    "    balance += amount\n",
    "    print(f\"Deposited {amount}. New balance: {balance}\")\n",
    "\n",
    "def withdraw(amount):\n",
    "    global balance\n",
    "    if amount > balance:\n",
    "        print(\"Insufficient balance!\")\n",
    "    else:\n",
    "        balance -= amount\n",
    "        print(f\"Withdrew {amount}. New balance: {balance}\")\n",
    "\n",
    "user_pin = input(\"\\nEnter PIN: \")\n",
    "if user_pin == PIN:\n",
    "    while True:\n",
    "        print(\"\\n1. Check Balance\\n2. Deposit\\n3. Withdraw\\n4. Exit\")\n",
    "        choice = input(\"Choose option: \")\n",
    "        if choice == \"1\":\n",
    "            check_balance()\n",
    "        elif choice == \"2\":\n",
    "            amt = int(input(\"Enter amount: \"))\n",
    "            deposit(amt)\n",
    "        elif choice == \"3\":\n",
    "            amt = int(input(\"Enter amount: \"))\n",
    "            withdraw(amt)\n",
    "        elif choice == \"4\":\n",
    "            break\n",
    "        else:\n",
    "            print(\"Invalid option.\")\n",
    "else:\n",
    "    print(\"Wrong PIN!\")"
   ]
  },
  {
   "cell_type": "code",
   "execution_count": 15,
   "id": "072f4934",
   "metadata": {},
   "outputs": [
    {
     "name": "stdout",
     "output_type": "stream",
     "text": [
      "\n",
      "Employees with salary > 50,000: [{'name': 'ali', 'age': 30, 'salary': 70000}]\n",
      "Updated employees data: [{'name': 'sheryar', 'age': 25, 'salary': 55000.00000000001}, {'name': 'ali', 'age': 30, 'salary': 77000.0}, {'name': 'sajid', 'age': 22, 'salary': 44000.0}]\n"
     ]
    }
   ],
   "source": [
    "employees = [\n",
    "    {\"name\": \"sheryar\", \"age\": 25, \"salary\": 50000},\n",
    "    {\"name\": \"ali\", \"age\": 30, \"salary\": 70000},\n",
    "    {\"name\": \"sajid\", \"age\": 22, \"salary\": 40000},\n",
    "]\n",
    "\n",
    "high_salary = list(filter(lambda e: e[\"salary\"] > 50000, employees))\n",
    "print(\"\\nEmployees with salary > 50,000:\", high_salary)\n",
    "\n",
    "updated_employees = list(map(lambda e: {**e, \"salary\": e[\"salary\"] * 1.1}, employees))\n",
    "print(\"Updated employees data:\", updated_employees)\n"
   ]
  },
  {
   "cell_type": "code",
   "execution_count": 7,
   "id": "80698555",
   "metadata": {},
   "outputs": [
    {
     "name": "stdout",
     "output_type": "stream",
     "text": [
      "\n",
      "Enter elements for Matrix A:\n",
      "\n",
      "Enter elements for Matrix B:\n",
      "\n",
      "Matrix Addition Result:\n",
      "[2, 4, 6]\n",
      "[2, 4, 5]\n",
      "[3, 5, 5]\n",
      "Matrix Multiplication Result:\n",
      "[6, 12, 18]\n",
      "[5, 10, 15]\n",
      "[7, 14, 21]\n"
     ]
    }
   ],
   "source": [
    "\n",
    "print(\"\\nEnter elements for Matrix A:\")\n",
    "A = [[int(input(f\"A[{i}][{j}]: \")) for j in range(3)] for i in range(3)]\n",
    "\n",
    "print(\"\\nEnter elements for Matrix B:\")\n",
    "B = [[int(input(f\"B[{i}][{j}]: \")) for j in range(3)] for i in range(3)]\n",
    "\n",
    "#this is the code for addition of the matrixxx a and b\n",
    "C = [[A[i][j] + B[i][j] for j in range(3)] for i in range(3)]\n",
    "\n",
    "# this one is for multiplication of the matrices\n",
    "D = [[sum(A[i][k] * B[k][j] for k in range(3)) for j in range(3)] for i in range(3)]\n",
    "\n",
    "print(\"\\nMatrix Addition Result:\")\n",
    "for row in C:\n",
    "    print(row)\n",
    "\n",
    "print(\"Matrix Multiplication Result:\")\n",
    "for row in D:\n",
    "    print(row)"
   ]
  },
  {
   "cell_type": "code",
   "execution_count": 3,
   "id": "dfb01d5e",
   "metadata": {},
   "outputs": [
    {
     "name": "stdout",
     "output_type": "stream",
     "text": [
      "File not found! Try again.\n",
      "Lines: 1, Words: 21, Characters: 123\n"
     ]
    }
   ],
   "source": [
    "while True:\n",
    "    filename = input(\"\\nEnter filename (or type 'exit' to quit): \")\n",
    "    \n",
    "    if filename.lower() == \"exit\":\n",
    "        print(\"Exiting program...\")\n",
    "        break\n",
    "\n",
    "    try:\n",
    "        with open(filename, \"r\") as f:\n",
    "            content = f.read()\n",
    "        lines = content.splitlines()\n",
    "        words = content.split()\n",
    "        chars = len(content)\n",
    "        print(f\"Lines: {len(lines)}, Words: {len(words)}, Characters: {chars}\")\n",
    "        break \n",
    "    except FileNotFoundError:\n",
    "        print(\"File not found! Try again.\")\n"
   ]
  },
  {
   "cell_type": "code",
   "execution_count": 6,
   "id": "5ec4e122",
   "metadata": {},
   "outputs": [
    {
     "name": "stdout",
     "output_type": "stream",
     "text": [
      "\n",
      "1. Add Applicant\n",
      "2. Register Applicant\n",
      "3. Show Registered\n",
      "4. Remove Student\n",
      "5. Exit\n",
      "{'sheryar'}\n",
      "\n",
      "1. Add Applicant\n",
      "2. Register Applicant\n",
      "3. Show Registered\n",
      "4. Remove Student\n",
      "5. Exit\n",
      "\n",
      "1. Add Applicant\n",
      "2. Register Applicant\n",
      "3. Show Registered\n",
      "4. Remove Student\n",
      "5. Exit\n",
      "Registered Students: {'sheryar'}\n",
      "\n",
      "1. Add Applicant\n",
      "2. Register Applicant\n",
      "3. Show Registered\n",
      "4. Remove Student\n",
      "5. Exit\n"
     ]
    }
   ],
   "source": [
    "\n",
    "registered_students = set()\n",
    "new_applicants = set()\n",
    "\n",
    "while True:\n",
    "    print(\"\\n1. Add Applicant\\n2. Register Applicant\\n3. Show Registered\\n4. Remove Student\\n5. Exit\")\n",
    "    choice = input(\"Choose: \")\n",
    "    if choice == \"1\":\n",
    "        name = input(\"Enter applicant name: \")\n",
    "        new_applicants.add(name)\n",
    "        print(new_applicants)\n",
    "    elif choice == \"2\":\n",
    "        name = input(\"Enter applicant name to register: \")\n",
    "        if name in new_applicants:\n",
    "            registered_students.add(name)\n",
    "            new_applicants.remove(name)\n",
    "        else:\n",
    "            print(\"Applicant not found.\")\n",
    "    elif choice == \"3\":\n",
    "        print(\"Registered Students:\", registered_students)\n",
    "    elif choice == \"4\":\n",
    "        name = input(\"Enter name to remove: \")\n",
    "        registered_students.discard(name)\n",
    "    elif choice == \"5\":\n",
    "        break\n",
    "    else:\n",
    "        print(\"Invalid option.\")\n"
   ]
  },
  {
   "cell_type": "code",
   "execution_count": null,
   "id": "e9f0dc79",
   "metadata": {},
   "outputs": [
    {
     "name": "stdout",
     "output_type": "stream",
     "text": [
      "Sentence: hello my name is sheryar\n",
      "Vowel Count: 7\n"
     ]
    }
   ],
   "source": [
    "def sentence_vowel_counter(sentence):\n",
    "    def count_vowels(s):\n",
    "        vowels = \"aeiou\"\n",
    "        return sum(1 for a in s.lower() if a in vowels)\n",
    "    return sentence, count_vowels(sentence)\n",
    "\n",
    "sentence = input(\"\\nEnter a sentence: \")\n",
    "s, count = sentence_vowel_counter(sentence)\n",
    "print(f\"Sentence: {s}\\nVowel Count: {count}\")"
   ]
  },
  {
   "cell_type": "code",
   "execution_count": null,
   "id": "00a784c7",
   "metadata": {},
   "outputs": [
    {
     "name": "stdout",
     "output_type": "stream",
     "text": [
      "\n",
      "Available Products: {'Laptop': 50000, 'Phone': 30000, 'Headphones': 5000, 'Book': 1000}\n",
      "Item not found! Please choose from: ['Laptop', 'Phone', 'Headphones', 'Book']\n",
      "Invalid quantity! Please enter a number.\n",
      "Item not found! Please choose from: ['Laptop', 'Phone', 'Headphones', 'Book']\n",
      "Invalid quantity! Please enter a number.\n",
      "\n",
      " Final Bill: 81000.0\n"
     ]
    }
   ],
   "source": [
    "catalog = {\"Laptop\": 50000, \"Phone\": 30000, \"Headphones\": 5000, \"Book\": 1000}\n",
    "cart = {}\n",
    "\n",
    "print(\"\\nAvailable Products:\", catalog)\n",
    "\n",
    "while True:\n",
    "    item = input(\"Add item to cart (or type 'done'): \").capitalize()\n",
    "\n",
    "    if item == \"Done\":\n",
    "        break\n",
    "\n",
    "    if item not in catalog: \n",
    "        print(\"Item not found! Please choose from:\", list(catalog.keys()))\n",
    "        continue\n",
    "\n",
    "    try:\n",
    "        qty = int(input(f\"Enter quantity of {item}: \"))\n",
    "        if qty <= 0:\n",
    "            print(\"Quantity must be greater than 0.\")\n",
    "            continue\n",
    "        cart[item] = cart.get(item, 0) + qty\n",
    "    except ValueError:\n",
    "        print(\"Invalid quantity! Please enter a number.\")\n",
    "\n",
    "total = sum(catalog[item] * qty for item, qty in cart.items())\n",
    "if total > 5000:\n",
    "    total *= 0.9 \n",
    "\n",
    "print(\"\\n Final Bill:\", total)\n",
    "\n",
    "\n",
    "with open(\"bill.txt\", \"w\") as f:\n",
    "    f.write(f\"Cart: {cart}\\nTotal Bill: {total}\\n\")\n"
   ]
  },
  {
   "cell_type": "code",
   "execution_count": null,
   "id": "a8679f6f",
   "metadata": {},
   "outputs": [],
   "source": []
  }
 ],
 "metadata": {
  "kernelspec": {
   "display_name": ".venv (3.12.3)",
   "language": "python",
   "name": "python3"
  },
  "language_info": {
   "codemirror_mode": {
    "name": "ipython",
    "version": 3
   },
   "file_extension": ".py",
   "mimetype": "text/x-python",
   "name": "python",
   "nbconvert_exporter": "python",
   "pygments_lexer": "ipython3",
   "version": "3.12.3"
  }
 },
 "nbformat": 4,
 "nbformat_minor": 5
}
