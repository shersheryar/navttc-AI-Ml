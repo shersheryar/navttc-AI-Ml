{
 "cells": [
  {
   "cell_type": "code",
   "execution_count": 1,
   "id": "8fdadc7a",
   "metadata": {},
   "outputs": [
    {
     "name": "stdout",
     "output_type": "stream",
     "text": [
      "Requirement already satisfied: numpy in /home/no0ne/Documents/machine-learning/navttc/.venv/lib/python3.12/site-packages (2.3.3)\n"
     ]
    }
   ],
   "source": [
    "!pip install numpy"
   ]
  },
  {
   "cell_type": "code",
   "execution_count": 2,
   "id": "3f3a0ad9",
   "metadata": {},
   "outputs": [],
   "source": [
    "import numpy as np"
   ]
  },
  {
   "cell_type": "code",
   "execution_count": null,
   "id": "e3105ba2",
   "metadata": {},
   "outputs": [
    {
     "name": "stdout",
     "output_type": "stream",
     "text": [
      "[[1 2 3 4 5]\n",
      " [1 3 5 3 9]]\n"
     ]
    }
   ],
   "source": [
    "my_list = [1,2,3,4,5]\n",
    "my_list2 = [1,3,5,3,9][ 10  40  90 \n",
    "# print(my_list)\n",
    "arr = np.array([my_list,my_list2])\n",
    "print(arr)"
   ]
  },
  {
   "cell_type": "code",
   "execution_count": 21,
   "id": "9cd65d54",
   "metadata": {},
   "outputs": [
    {
     "name": "stdout",
     "output_type": "stream",
     "text": [
      "[[1 2]\n",
      " [3 4]\n",
      " [5 1]\n",
      " [3 5]\n",
      " [3 9]]\n"
     ]
    }
   ],
   "source": [
    "transpose = arr.reshape(5,2)\n",
    "print(transpose)"
   ]
  },
  {
   "cell_type": "code",
   "execution_count": 43,
   "id": "a8642bb9",
   "metadata": {},
   "outputs": [
    {
     "name": "stdout",
     "output_type": "stream",
     "text": [
      "1\n",
      "12\n"
     ]
    }
   ],
   "source": [
    "arr = np.array([[[1, 2, 3],\n",
    "                 [4, 5, 6]],\n",
    "                \n",
    "                [[7, 8, 9],\n",
    "                 [10, 11, 12]]])\n",
    "\n",
    "# print(arr)\n",
    "# print(\"Dimensions:\", arr.ndim)  # Output: 3\n",
    "# print(arr.shape)\n",
    "print(arr[0][0][0])\n",
    "print(arr[-1,-1,-1])"
   ]
  },
  {
   "cell_type": "code",
   "execution_count": 28,
   "id": "ff406510",
   "metadata": {},
   "outputs": [
    {
     "name": "stdout",
     "output_type": "stream",
     "text": [
      "[[1. 1. 1.]\n",
      " [1. 1. 1.]]\n",
      "2\n"
     ]
    }
   ],
   "source": [
    "array = np.ones((2, 3))  # 2 rows, 3 columns filled with zeros\n",
    "print(array)\n",
    "print(array.ndim)"
   ]
  },
  {
   "cell_type": "code",
   "execution_count": 30,
   "id": "ea525118",
   "metadata": {},
   "outputs": [
    {
     "name": "stdout",
     "output_type": "stream",
     "text": [
      "[[[1. 1. 1. 1.]\n",
      "  [1. 1. 1. 1.]\n",
      "  [1. 1. 1. 1.]]]\n",
      "Shape: (1, 3, 4)\n",
      "Dimensions: 3\n"
     ]
    }
   ],
   "source": [
    "import numpy as np\n",
    "\n",
    "array = np.ones((1, 3, 4))  # 3D array: 2 blocks, 3 rows, 4 columns\n",
    "print(array)\n",
    "print(\"Shape:\", array.shape)\n",
    "print(\"Dimensions:\", array.ndim)\n"
   ]
  },
  {
   "cell_type": "code",
   "execution_count": null,
   "id": "7520a135",
   "metadata": {},
   "outputs": [
    {
     "name": "stdout",
     "output_type": "stream",
     "text": [
      "[[[0.5 0.5 0.5 0.5]\n",
      "  [0.5 0.5 0.5 0.5]\n",
      "  [0.5 0.5 0.5 0.5]]]\n"
     ]
    }
   ],
   "source": [
    "print(array / 2)\n"
   ]
  },
  {
   "cell_type": "code",
   "execution_count": 46,
   "id": "cfc66ac9",
   "metadata": {},
   "outputs": [
    {
     "name": "stdout",
     "output_type": "stream",
     "text": [
      "['appleapple' 'bananabanana' 'cherrycherry']\n"
     ]
    }
   ],
   "source": [
    "\n",
    "arr = np.array([\"apple\", \"banana\", \"cherry\"])\n",
    "print(np.char.multiply(arr, 2))"
   ]
  },
  {
   "cell_type": "code",
   "execution_count": 71,
   "id": "0c5bfffc",
   "metadata": {},
   "outputs": [],
   "source": [
    "\n",
    "arr1 = np.array([1, 2, 3])\n",
    "arr2 = np.array([[10, 20, 30],[1,2,4]])"
   ]
  },
  {
   "cell_type": "code",
   "execution_count": 72,
   "id": "3e1ced49",
   "metadata": {},
   "outputs": [
    {
     "name": "stdout",
     "output_type": "stream",
     "text": [
      "[[11 22 33]\n",
      " [ 2  4  7]]\n"
     ]
    }
   ],
   "source": [
    "print(arr1 + arr2)\n",
    "# print(np.char.multiply(arr, arr1))"
   ]
  },
  {
   "cell_type": "code",
   "execution_count": 65,
   "id": "7bc13f77",
   "metadata": {},
   "outputs": [
    {
     "name": "stdout",
     "output_type": "stream",
     "text": [
      "[[[ 0  1  2]\n",
      "  [ 3  4  5]]\n",
      "\n",
      " [[ 6  7  8]\n",
      "  [ 9 10 11]]]\n",
      "Shape: (2, 2, 3)\n"
     ]
    }
   ],
   "source": [
    "import numpy as np\n",
    "\n",
    "arr = np.arange(12).reshape(2, 2, 3)  # 3D: 2 blocks, 2 rows, 3 cols\n",
    "print(arr)\n",
    "print(\"Shape:\", arr.shape)\n"
   ]
  },
  {
   "cell_type": "code",
   "execution_count": 10,
   "id": "09cde384",
   "metadata": {},
   "outputs": [
    {
     "name": "stdout",
     "output_type": "stream",
     "text": [
      "Average per student: [79.75 83.75 67.5  88.75 61.75]\n",
      "Highest per subject: [92 88 95 91]\n",
      "Index of student with lowest total: 4\n"
     ]
    }
   ],
   "source": [
    "# task 1 \n",
    "marks = np.array([\n",
    "    [78, 85, 90, 66],\n",
    "    [88, 72, 95, 80],\n",
    "    [60, 70, 65, 75],\n",
    "    [92, 88, 84, 91],\n",
    "    [55, 64, 58, 70]\n",
    "])\n",
    "\n",
    "print(\"Average per student:\", marks.mean(axis=1))\n",
    "print(\"Highest per subject:\", marks.max(axis=0))\n",
    "print(\"Index of student with lowest total:\", marks.sum(axis=1).argmin())\n"
   ]
  },
  {
   "cell_type": "code",
   "execution_count": 11,
   "id": "99d46b6a",
   "metadata": {},
   "outputs": [
    {
     "name": "stdout",
     "output_type": "stream",
     "text": [
      "6x6 shape: (6, 6)\n",
      "3D shape: (3, 3, 4)\n"
     ]
    }
   ],
   "source": [
    "arr = np.arange(36)\n",
    "arr_6x6 = arr.reshape(6, 6)\n",
    "arr_3d = arr.reshape(3, 3, 4)\n",
    "\n",
    "print(\"6x6 shape:\", arr_6x6.shape)\n",
    "print(\"3D shape:\", arr_3d.shape)"
   ]
  },
  {
   "cell_type": "code",
   "execution_count": 19,
   "id": "d947e62e",
   "metadata": {},
   "outputs": [
    {
     "name": "stdout",
     "output_type": "stream",
     "text": [
      "Random array:\n",
      " [[97  4 95 76]\n",
      " [95 71 11 97]\n",
      " [40 66 22 95]]\n",
      "Sorted row-wise:\n",
      " [[ 4 76 95 97]\n",
      " [11 71 95 97]\n",
      " [22 40 66 95]]\n",
      "With row sums:\n",
      " [[  4  76  95  97 272]\n",
      " [ 11  71  95  97 274]\n",
      " [ 22  40  66  95 223]]\n"
     ]
    }
   ],
   "source": [
    "random_arr = np.random.randint(1, 101, size=(3, 4))\n",
    "sorted_arr = np.sort(random_arr, axis=1)\n",
    "row_sums = sorted_arr.sum(axis=1).reshape(-1, 1)\n",
    "# print(row_sums)\n",
    "new_arr = np.concatenate((sorted_arr, row_sums), axis=1)\n",
    "\n",
    "print(\"Random array:\\n\", random_arr)\n",
    "print(\"Sorted row-wise:\\n\", sorted_arr)\n",
    "print(\"With row sums:\\n\", new_arr)"
   ]
  },
  {
   "cell_type": "code",
   "execution_count": 25,
   "id": "f0572887",
   "metadata": {},
   "outputs": [
    {
     "name": "stdout",
     "output_type": "stream",
     "text": [
      "\n",
      "Split parts: [array([1, 2, 3, 4, 5]), array([ 6,  7,  8,  9, 10]), array([11, 12, 13, 14, 15]), array([16, 17, 18, 19, 20])]\n",
      "Combined 2nd and 4th: [ 6  7  8  9 10 16 17 18 19 20]\n"
     ]
    }
   ],
   "source": [
    "arr = np.arange(1, 21)\n",
    "new_arr = np.split(arr, 4)\n",
    "print()\n",
    "combined_arr = np.concatenate((new_arr[1], new_arr[3]))\n",
    "\n",
    "print(\"Split parts:\", new_arr)\n",
    "print(\"Combined 2nd and 4th:\", combined_arr)"
   ]
  },
  {
   "cell_type": "code",
   "execution_count": 29,
   "id": "58637796",
   "metadata": {},
   "outputs": [
    {
     "name": "stdout",
     "output_type": "stream",
     "text": [
      "[ 0 12 23 30 45 99]\n"
     ]
    }
   ],
   "source": [
    "\n",
    "arr = np.array([12, -5, 0, 23, -15, 45, 30, -2])\n",
    "cleaned = arr[arr >= 0]\n",
    "cleaned = np.insert(cleaned, 2, 99)\n",
    "final_cleaned = np.sort(cleaned)\n",
    "\n",
    "print(final_cleaned)\n",
    "\n",
    "\n"
   ]
  },
  {
   "cell_type": "code",
   "execution_count": 32,
   "id": "925dec6b",
   "metadata": {},
   "outputs": [
    {
     "name": "stdout",
     "output_type": "stream",
     "text": [
      "Stock prices:\n",
      " [[[183 140 195]\n",
      "  [127 134 184]\n",
      "  [109 196 162]\n",
      "  [128 121 108]\n",
      "  [114 105 188]]\n",
      "\n",
      " [[170 200 130]\n",
      "  [144 115 196]\n",
      "  [112 179 100]\n",
      "  [183 118 164]\n",
      "  [138 124 189]]]\n",
      "Max closing price per company: [195 196]\n",
      "Lowest open day per company: [2 2]\n"
     ]
    }
   ],
   "source": [
    "\n",
    "stock_prices = np.random.randint(100, 201, size=(2, 5, 3))\n",
    "max_close = stock_prices[:, :, 2].max(axis=1)\n",
    "lowest_open_day = stock_prices[:, :, 0].argmin(axis=1)\n",
    "\n",
    "print(\"Stock prices:\\n\", stock_prices)\n",
    "print(\"Max closing price per company:\", max_close)\n",
    "print(\"Lowest open day per company:\", lowest_open_day)"
   ]
  },
  {
   "cell_type": "code",
   "execution_count": null,
   "id": "6becfdba",
   "metadata": {},
   "outputs": [],
   "source": []
  },
  {
   "cell_type": "code",
   "execution_count": null,
   "id": "e46355f3",
   "metadata": {},
   "outputs": [],
   "source": []
  }
 ],
 "metadata": {
  "kernelspec": {
   "display_name": ".venv (3.12.3)",
   "language": "python",
   "name": "python3"
  },
  "language_info": {
   "codemirror_mode": {
    "name": "ipython",
    "version": 3
   },
   "file_extension": ".py",
   "mimetype": "text/x-python",
   "name": "python",
   "nbconvert_exporter": "python",
   "pygments_lexer": "ipython3",
   "version": "3.12.3"
  }
 },
 "nbformat": 4,
 "nbformat_minor": 5
}
