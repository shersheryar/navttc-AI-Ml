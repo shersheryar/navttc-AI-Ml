{
  "metadata": {
    "kernelspec": {
      "language": "python",
      "display_name": "Python 3",
      "name": "python3"
    },
    "language_info": {
      "pygments_lexer": "ipython3",
      "nbconvert_exporter": "python",
      "version": "3.6.4",
      "file_extension": ".py",
      "codemirror_mode": {
        "name": "ipython",
        "version": 3
      },
      "name": "python",
      "mimetype": "text/x-python"
    },
    "kaggle": {
      "accelerator": "gpu",
      "dataSources": [
        {
          "sourceId": 3322096,
          "sourceType": "datasetVersion",
          "datasetId": 2008274
        }
      ],
      "dockerImageVersionId": 30177,
      "isInternetEnabled": true,
      "language": "python",
      "sourceType": "notebook",
      "isGpuEnabled": true
    },
    "colab": {
      "provenance": [],
      "include_colab_link": true
    }
  },
  "nbformat_minor": 0,
  "nbformat": 4,
  "cells": [
    {
      "cell_type": "markdown",
      "metadata": {
        "id": "view-in-github",
        "colab_type": "text"
      },
      "source": [
        "<a href=\"https://colab.research.google.com/github/musharrafhamraz/deep-learning-uconnect/blob/main/day_3.ipynb\" target=\"_parent\"><img src=\"https://colab.research.google.com/assets/colab-badge.svg\" alt=\"Open In Colab\"/></a>"
      ]
    },
    {
      "cell_type": "code",
      "source": [
        "import numpy as np\n",
        "import pandas as pd\n",
        "from matplotlib import pyplot as plt"
      ],
      "metadata": {
        "execution": {
          "iopub.status.busy": "2022-03-24T14:53:49.535827Z",
          "iopub.execute_input": "2022-03-24T14:53:49.536453Z",
          "iopub.status.idle": "2022-03-24T14:53:49.546069Z",
          "shell.execute_reply.started": "2022-03-24T14:53:49.536378Z",
          "shell.execute_reply": "2022-03-24T14:53:49.545308Z"
        },
        "trusted": true,
        "id": "c8S23WDm8CXR"
      },
      "outputs": [],
      "execution_count": null
    },
    {
      "cell_type": "code",
      "source": [
        "df=pd.read_csv('path-to-dataset.csv')"
      ],
      "metadata": {
        "execution": {
          "iopub.status.busy": "2022-03-24T14:53:49.566504Z",
          "iopub.execute_input": "2022-03-24T14:53:49.567019Z",
          "iopub.status.idle": "2022-03-24T14:53:49.593669Z",
          "shell.execute_reply.started": "2022-03-24T14:53:49.566983Z",
          "shell.execute_reply": "2022-03-24T14:53:49.593006Z"
        },
        "trusted": true,
        "id": "rQDKSTnF8CXT"
      },
      "outputs": [],
      "execution_count": null
    },
    {
      "cell_type": "code",
      "source": [
        "df.head()"
      ],
      "metadata": {
        "execution": {
          "iopub.status.busy": "2022-03-24T14:53:49.595907Z",
          "iopub.execute_input": "2022-03-24T14:53:49.59634Z",
          "iopub.status.idle": "2022-03-24T14:53:49.615387Z",
          "shell.execute_reply.started": "2022-03-24T14:53:49.596304Z",
          "shell.execute_reply": "2022-03-24T14:53:49.614141Z"
        },
        "trusted": true,
        "id": "WzxkPIji8CXT"
      },
      "outputs": [],
      "execution_count": null
    },
    {
      "cell_type": "code",
      "source": [
        "df.drop(columns = ['RowNumber','CustomerId','Surname'], inplace= True )"
      ],
      "metadata": {
        "execution": {
          "iopub.status.busy": "2022-03-24T14:53:49.616247Z",
          "iopub.execute_input": "2022-03-24T14:53:49.616714Z",
          "iopub.status.idle": "2022-03-24T14:53:49.622401Z",
          "shell.execute_reply.started": "2022-03-24T14:53:49.616678Z",
          "shell.execute_reply": "2022-03-24T14:53:49.621544Z"
        },
        "trusted": true,
        "id": "YdhDhkE48CXU"
      },
      "outputs": [],
      "execution_count": null
    },
    {
      "cell_type": "code",
      "source": [
        "df.head()"
      ],
      "metadata": {
        "execution": {
          "iopub.status.busy": "2022-03-24T14:53:49.62401Z",
          "iopub.execute_input": "2022-03-24T14:53:49.624329Z",
          "iopub.status.idle": "2022-03-24T14:53:49.641124Z",
          "shell.execute_reply.started": "2022-03-24T14:53:49.624294Z",
          "shell.execute_reply": "2022-03-24T14:53:49.640448Z"
        },
        "trusted": true,
        "id": "SPxNlzS68CXU"
      },
      "outputs": [],
      "execution_count": null
    },
    {
      "cell_type": "code",
      "source": [
        "df.isnull().sum()"
      ],
      "metadata": {
        "execution": {
          "iopub.status.busy": "2022-03-24T14:53:49.642375Z",
          "iopub.execute_input": "2022-03-24T14:53:49.642793Z",
          "iopub.status.idle": "2022-03-24T14:53:49.65303Z",
          "shell.execute_reply.started": "2022-03-24T14:53:49.64276Z",
          "shell.execute_reply": "2022-03-24T14:53:49.652194Z"
        },
        "trusted": true,
        "id": "fRMI9DrZ8CXU"
      },
      "outputs": [],
      "execution_count": null
    },
    {
      "cell_type": "code",
      "source": [
        "df.describe()"
      ],
      "metadata": {
        "execution": {
          "iopub.status.busy": "2022-03-24T14:53:49.654016Z",
          "iopub.execute_input": "2022-03-24T14:53:49.656536Z",
          "iopub.status.idle": "2022-03-24T14:53:49.691239Z",
          "shell.execute_reply.started": "2022-03-24T14:53:49.656497Z",
          "shell.execute_reply": "2022-03-24T14:53:49.690577Z"
        },
        "trusted": true,
        "id": "3ArRjwLW8CXU"
      },
      "outputs": [],
      "execution_count": null
    },
    {
      "cell_type": "code",
      "source": [
        "df.info()"
      ],
      "metadata": {
        "execution": {
          "iopub.status.busy": "2022-03-24T14:53:49.692309Z",
          "iopub.execute_input": "2022-03-24T14:53:49.693036Z",
          "iopub.status.idle": "2022-03-24T14:53:49.707632Z",
          "shell.execute_reply.started": "2022-03-24T14:53:49.693003Z",
          "shell.execute_reply": "2022-03-24T14:53:49.706907Z"
        },
        "trusted": true,
        "id": "S6mz05lX8CXU"
      },
      "outputs": [],
      "execution_count": null
    },
    {
      "cell_type": "code",
      "source": [
        "df['Geography'].value_counts()"
      ],
      "metadata": {
        "execution": {
          "iopub.status.busy": "2022-03-24T14:53:49.708819Z",
          "iopub.execute_input": "2022-03-24T14:53:49.709211Z",
          "iopub.status.idle": "2022-03-24T14:53:49.717039Z",
          "shell.execute_reply.started": "2022-03-24T14:53:49.709176Z",
          "shell.execute_reply": "2022-03-24T14:53:49.716191Z"
        },
        "trusted": true,
        "id": "XSy7Z5Zx8CXV"
      },
      "outputs": [],
      "execution_count": null
    },
    {
      "cell_type": "code",
      "source": [
        "plt.figure(figsize=(10, 6))\n",
        "df['Geography'].value_counts().plot(kind='bar')\n",
        "plt.xlabel('Counrties Names')\n",
        "plt.ylabel('Numbers of Customers')\n",
        "plt.title(\"Comparsion betweeen Countries and Customers\")"
      ],
      "metadata": {
        "execution": {
          "iopub.status.busy": "2022-03-24T14:53:49.71834Z",
          "iopub.execute_input": "2022-03-24T14:53:49.718866Z",
          "iopub.status.idle": "2022-03-24T14:53:49.918695Z",
          "shell.execute_reply.started": "2022-03-24T14:53:49.71883Z",
          "shell.execute_reply": "2022-03-24T14:53:49.918022Z"
        },
        "trusted": true,
        "id": "H-0wQ79J8CXV"
      },
      "outputs": [],
      "execution_count": null
    },
    {
      "cell_type": "code",
      "source": [
        "plt.figure(figsize=(10, 6))\n",
        "df['Exited'].value_counts().plot(kind='bar')\n",
        "plt.xlabel('Exited or Not Exited')\n",
        "plt.ylabel('Numbers of Customers')\n",
        "plt.title(\"Comparsion betweeen Exited and Customers\")"
      ],
      "metadata": {
        "execution": {
          "iopub.status.busy": "2022-03-24T14:53:49.919828Z",
          "iopub.execute_input": "2022-03-24T14:53:49.920262Z",
          "iopub.status.idle": "2022-03-24T14:53:50.210766Z",
          "shell.execute_reply.started": "2022-03-24T14:53:49.920222Z",
          "shell.execute_reply": "2022-03-24T14:53:50.210082Z"
        },
        "trusted": true,
        "id": "6DYexZSX8CXV"
      },
      "outputs": [],
      "execution_count": null
    },
    {
      "cell_type": "code",
      "source": [
        "plt.figure(figsize=(10, 6))\n",
        "df['Gender'].value_counts().plot(kind='bar')\n",
        "plt.xlabel('Gender')\n",
        "plt.ylabel('Numbers of Customers')\n",
        "plt.title(\"Comparsion betweeen Genders\")"
      ],
      "metadata": {
        "execution": {
          "iopub.status.busy": "2022-03-24T14:53:50.214037Z",
          "iopub.execute_input": "2022-03-24T14:53:50.214576Z",
          "iopub.status.idle": "2022-03-24T14:53:50.396523Z",
          "shell.execute_reply.started": "2022-03-24T14:53:50.214545Z",
          "shell.execute_reply": "2022-03-24T14:53:50.395865Z"
        },
        "trusted": true,
        "id": "iPbd--qA8CXV"
      },
      "outputs": [],
      "execution_count": null
    },
    {
      "cell_type": "markdown",
      "source": [
        "# Encoding the Categorical data"
      ],
      "metadata": {
        "id": "HErlsyVD8CXV"
      }
    },
    {
      "cell_type": "code",
      "source": [
        "df= pd.get_dummies(df, columns= ['Geography', 'Gender'], drop_first=True)"
      ],
      "metadata": {
        "execution": {
          "iopub.status.busy": "2022-03-24T14:53:50.397657Z",
          "iopub.execute_input": "2022-03-24T14:53:50.398015Z",
          "iopub.status.idle": "2022-03-24T14:53:50.409503Z",
          "shell.execute_reply.started": "2022-03-24T14:53:50.397979Z",
          "shell.execute_reply": "2022-03-24T14:53:50.408757Z"
        },
        "trusted": true,
        "id": "7KndTEhf8CXW"
      },
      "outputs": [],
      "execution_count": null
    },
    {
      "cell_type": "code",
      "source": [
        "X=df.drop(columns=['Exited'])\n",
        "y=df['Exited']"
      ],
      "metadata": {
        "execution": {
          "iopub.status.busy": "2022-03-24T14:53:50.412017Z",
          "iopub.execute_input": "2022-03-24T14:53:50.412201Z",
          "iopub.status.idle": "2022-03-24T14:53:50.41796Z",
          "shell.execute_reply.started": "2022-03-24T14:53:50.412179Z",
          "shell.execute_reply": "2022-03-24T14:53:50.417165Z"
        },
        "trusted": true,
        "id": "rQywsetD8CXW"
      },
      "outputs": [],
      "execution_count": null
    },
    {
      "cell_type": "code",
      "source": [
        "from sklearn.model_selection import train_test_split"
      ],
      "metadata": {
        "execution": {
          "iopub.status.busy": "2022-03-24T14:53:50.419193Z",
          "iopub.execute_input": "2022-03-24T14:53:50.419942Z",
          "iopub.status.idle": "2022-03-24T14:53:50.752258Z",
          "shell.execute_reply.started": "2022-03-24T14:53:50.419905Z",
          "shell.execute_reply": "2022-03-24T14:53:50.751555Z"
        },
        "trusted": true,
        "id": "ymtI7QX58CXW"
      },
      "outputs": [],
      "execution_count": null
    },
    {
      "cell_type": "code",
      "source": [
        "X_train, X_test, y_train, y_test = train_test_split(X,y, test_size= 0.25, random_state=3)"
      ],
      "metadata": {
        "execution": {
          "iopub.status.busy": "2022-03-24T14:53:50.753375Z",
          "iopub.execute_input": "2022-03-24T14:53:50.753676Z",
          "iopub.status.idle": "2022-03-24T14:53:50.764246Z",
          "shell.execute_reply.started": "2022-03-24T14:53:50.753609Z",
          "shell.execute_reply": "2022-03-24T14:53:50.763449Z"
        },
        "trusted": true,
        "id": "Av03S2mC8CXW"
      },
      "outputs": [],
      "execution_count": null
    },
    {
      "cell_type": "code",
      "source": [
        "from sklearn.preprocessing import StandardScaler"
      ],
      "metadata": {
        "execution": {
          "iopub.status.busy": "2022-03-24T14:53:50.766106Z",
          "iopub.execute_input": "2022-03-24T14:53:50.766648Z",
          "iopub.status.idle": "2022-03-24T14:53:50.771551Z",
          "shell.execute_reply.started": "2022-03-24T14:53:50.766422Z",
          "shell.execute_reply": "2022-03-24T14:53:50.769856Z"
        },
        "trusted": true,
        "id": "K6DIMfvX8CXW"
      },
      "outputs": [],
      "execution_count": null
    },
    {
      "cell_type": "code",
      "source": [
        "sc=StandardScaler()\n",
        "X_train=sc.fit_transform(X_train)\n",
        "X_test=sc.transform(X_test)"
      ],
      "metadata": {
        "execution": {
          "iopub.status.busy": "2022-03-24T14:53:50.773366Z",
          "iopub.execute_input": "2022-03-24T14:53:50.773728Z",
          "iopub.status.idle": "2022-03-24T14:53:50.788862Z",
          "shell.execute_reply.started": "2022-03-24T14:53:50.773687Z",
          "shell.execute_reply": "2022-03-24T14:53:50.788243Z"
        },
        "trusted": true,
        "id": "mm9O2utc8CXX"
      },
      "outputs": [],
      "execution_count": null
    },
    {
      "cell_type": "code",
      "source": [
        "import tensorflow\n",
        "from tensorflow import keras\n",
        "from tensorflow.keras import Sequential # used for init our ANN model\n",
        "from tensorflow.keras.layers import Dense # used for different layer structure"
      ],
      "metadata": {
        "execution": {
          "iopub.status.busy": "2022-03-24T14:53:50.790123Z",
          "iopub.execute_input": "2022-03-24T14:53:50.790575Z",
          "iopub.status.idle": "2022-03-24T14:53:52.311883Z",
          "shell.execute_reply.started": "2022-03-24T14:53:50.79054Z",
          "shell.execute_reply": "2022-03-24T14:53:52.311118Z"
        },
        "trusted": true,
        "id": "FrLOHIdJ8CXX"
      },
      "outputs": [],
      "execution_count": null
    },
    {
      "cell_type": "code",
      "source": [
        "# initializing the ANN model\n",
        "classifier=Sequential()"
      ],
      "metadata": {
        "execution": {
          "iopub.status.busy": "2022-03-24T14:53:52.313315Z",
          "iopub.execute_input": "2022-03-24T14:53:52.313574Z",
          "iopub.status.idle": "2022-03-24T14:53:53.939279Z",
          "shell.execute_reply.started": "2022-03-24T14:53:52.313538Z",
          "shell.execute_reply": "2022-03-24T14:53:53.937988Z"
        },
        "trusted": true,
        "id": "rLGZ-f9f8CXX"
      },
      "outputs": [],
      "execution_count": null
    },
    {
      "cell_type": "code",
      "source": [
        "classifier.add(Dense(6,activation='relu',input_dim=11))\n",
        "classifier.add(Dense(6,activation='relu'))\n",
        "classifier.add(Dense(1,activation='sigmoid'))"
      ],
      "metadata": {
        "execution": {
          "iopub.status.busy": "2022-03-24T14:53:53.940766Z",
          "iopub.execute_input": "2022-03-24T14:53:53.941025Z",
          "iopub.status.idle": "2022-03-24T14:53:53.97825Z",
          "shell.execute_reply.started": "2022-03-24T14:53:53.940987Z",
          "shell.execute_reply": "2022-03-24T14:53:53.977595Z"
        },
        "trusted": true,
        "id": "Nyh_cAxK8CXY"
      },
      "outputs": [],
      "execution_count": null
    },
    {
      "cell_type": "code",
      "source": [
        "classifier.summary()"
      ],
      "metadata": {
        "execution": {
          "iopub.status.busy": "2022-03-24T14:53:53.979251Z",
          "iopub.execute_input": "2022-03-24T14:53:53.979925Z",
          "iopub.status.idle": "2022-03-24T14:53:53.988055Z",
          "shell.execute_reply.started": "2022-03-24T14:53:53.979888Z",
          "shell.execute_reply": "2022-03-24T14:53:53.987256Z"
        },
        "trusted": true,
        "id": "RCr436Qa8CXY"
      },
      "outputs": [],
      "execution_count": null
    },
    {
      "cell_type": "code",
      "source": [
        "classifier.compile(optimizer='Adam',loss='binary_crossentropy',metrics=['accuracy'])"
      ],
      "metadata": {
        "execution": {
          "iopub.status.busy": "2022-03-24T14:53:53.989426Z",
          "iopub.execute_input": "2022-03-24T14:53:53.989764Z",
          "iopub.status.idle": "2022-03-24T14:53:54.001844Z",
          "shell.execute_reply.started": "2022-03-24T14:53:53.989727Z",
          "shell.execute_reply": "2022-03-24T14:53:54.001007Z"
        },
        "trusted": true,
        "id": "L15ASNGh8CXY"
      },
      "outputs": [],
      "execution_count": null
    },
    {
      "cell_type": "code",
      "source": [
        "history = classifier.fit(X_train,y_train,batch_size=10,epochs=100,verbose=1,validation_split=0.25)"
      ],
      "metadata": {
        "execution": {
          "iopub.status.busy": "2022-03-24T14:53:54.003325Z",
          "iopub.execute_input": "2022-03-24T14:53:54.003809Z",
          "iopub.status.idle": "2022-03-24T14:56:35.470483Z",
          "shell.execute_reply.started": "2022-03-24T14:53:54.003628Z",
          "shell.execute_reply": "2022-03-24T14:56:35.469783Z"
        },
        "trusted": true,
        "id": "rNSualZ38CXY"
      },
      "outputs": [],
      "execution_count": null
    },
    {
      "cell_type": "code",
      "source": [
        "# predicting the test set result\n",
        "y_pred = classifier.predict(X_test)\n",
        "y_pred = (y_pred>0.5)\n",
        "y_pred\n",
        ""
      ],
      "metadata": {
        "execution": {
          "iopub.status.busy": "2022-03-24T14:56:35.471976Z",
          "iopub.execute_input": "2022-03-24T14:56:35.47232Z",
          "iopub.status.idle": "2022-03-24T14:56:35.62862Z",
          "shell.execute_reply.started": "2022-03-24T14:56:35.472281Z",
          "shell.execute_reply": "2022-03-24T14:56:35.627917Z"
        },
        "trusted": true,
        "id": "-VXQhhBF8CXY"
      },
      "outputs": [],
      "execution_count": null
    },
    {
      "cell_type": "code",
      "source": [
        "# Confusion Metric\n",
        "from sklearn.metrics import confusion_matrix\n",
        "confusion_metric = confusion_matrix(y_test, y_pred)\n",
        "confusion_metric"
      ],
      "metadata": {
        "execution": {
          "iopub.status.busy": "2022-03-24T14:56:35.629927Z",
          "iopub.execute_input": "2022-03-24T14:56:35.630168Z",
          "iopub.status.idle": "2022-03-24T14:56:35.63917Z",
          "shell.execute_reply.started": "2022-03-24T14:56:35.630134Z",
          "shell.execute_reply": "2022-03-24T14:56:35.638341Z"
        },
        "trusted": true,
        "id": "wcAoHYnx8CXk"
      },
      "outputs": [],
      "execution_count": null
    },
    {
      "cell_type": "code",
      "source": [
        "from sklearn.metrics import accuracy_score\n",
        "accuracy_score(y_test,y_pred)"
      ],
      "metadata": {
        "execution": {
          "iopub.status.busy": "2022-03-24T14:56:35.640567Z",
          "iopub.execute_input": "2022-03-24T14:56:35.641026Z",
          "iopub.status.idle": "2022-03-24T14:56:35.647919Z",
          "shell.execute_reply.started": "2022-03-24T14:56:35.640984Z",
          "shell.execute_reply": "2022-03-24T14:56:35.647084Z"
        },
        "trusted": true,
        "id": "iXv-JRA88CXk"
      },
      "outputs": [],
      "execution_count": null
    },
    {
      "cell_type": "code",
      "source": [
        "plt.plot(history.history['loss'])\n",
        "plt.plot(history.history['val_loss'])"
      ],
      "metadata": {
        "execution": {
          "iopub.status.busy": "2022-03-24T14:56:35.649327Z",
          "iopub.execute_input": "2022-03-24T14:56:35.649818Z",
          "iopub.status.idle": "2022-03-24T14:56:35.842393Z",
          "shell.execute_reply.started": "2022-03-24T14:56:35.649779Z",
          "shell.execute_reply": "2022-03-24T14:56:35.841762Z"
        },
        "trusted": true,
        "id": "UKVCekX18CXk"
      },
      "outputs": [],
      "execution_count": null
    },
    {
      "cell_type": "code",
      "source": [
        "plt.plot(history.history['accuracy'])\n",
        "plt.plot(history.history['val_accuracy'])"
      ],
      "metadata": {
        "execution": {
          "iopub.status.busy": "2022-03-24T14:56:35.84368Z",
          "iopub.execute_input": "2022-03-24T14:56:35.843922Z",
          "iopub.status.idle": "2022-03-24T14:56:36.020985Z",
          "shell.execute_reply.started": "2022-03-24T14:56:35.843879Z",
          "shell.execute_reply": "2022-03-24T14:56:36.020292Z"
        },
        "trusted": true,
        "id": "COHfsQi48CXk"
      },
      "outputs": [],
      "execution_count": null
    }
  ]
}