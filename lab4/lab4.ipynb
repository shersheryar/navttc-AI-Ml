{
 "cells": [
  {
   "cell_type": "code",
   "execution_count": null,
   "id": "5a2e3a69",
   "metadata": {},
   "outputs": [],
   "source": []
  },
  {
   "cell_type": "code",
   "execution_count": 2,
   "id": "0a8cf770",
   "metadata": {},
   "outputs": [
    {
     "name": "stdout",
     "output_type": "stream",
     "text": [
      "Hello, Sheryar!\n"
     ]
    }
   ],
   "source": [
    "#task 1\n",
    "def greet(name):\n",
    "    print(f\"Hello, {name}!\")\n",
    "\n",
    "greet(\"Sheryar\")"
   ]
  },
  {
   "cell_type": "code",
   "execution_count": 12,
   "id": "cbac1ee5",
   "metadata": {},
   "outputs": [
    {
     "name": "stdout",
     "output_type": "stream",
     "text": [
      "sum: 12\n"
     ]
    }
   ],
   "source": [
    "# task 3\n",
    "def cal_sum (a, b):\n",
    "    return a + b\n",
    "\n",
    "result = cal_sum(a=5, b=7)\n",
    "print(\"sum:\", result)"
   ]
  },
  {
   "cell_type": "code",
   "execution_count": 10,
   "id": "23967d7d",
   "metadata": {},
   "outputs": [
    {
     "name": "stdout",
     "output_type": "stream",
     "text": [
      "Squares from 1 to 5:\n",
      "1**2 = 1\n",
      "2**2 = 4\n",
      "3**2 = 9\n",
      "4**2 = 16\n",
      "5**2 = 25\n"
     ]
    }
   ],
   "source": [
    "# task 2\n",
    "def square(num):\n",
    "    return num * num\n",
    "\n",
    "print(\"Squares from 1 to 5:\")\n",
    "for i in range(1, 6):\n",
    "    print(f\"{i}**2 = {square(i)}\")"
   ]
  },
  {
   "cell_type": "code",
   "execution_count": null,
   "id": "2e1f2ad0",
   "metadata": {},
   "outputs": [
    {
     "name": "stdout",
     "output_type": "stream",
     "text": [
      "Inside function: Local X\n",
      "Outside function: Global X\n"
     ]
    }
   ],
   "source": [
    "# task 4\n",
    "x = \"Global X\" \n",
    "\n",
    "def scope():\n",
    "    x = \"Local X\" \n",
    "    print(\"Inside function:\", x)\n",
    "\n",
    "scope()\n",
    "print(\"Outside function:\", x)"
   ]
  },
  {
   "cell_type": "code",
   "execution_count": null,
   "id": "86619890",
   "metadata": {},
   "outputs": [
    {
     "name": "stdout",
     "output_type": "stream",
     "text": [
      "Cube of 3 is:  27\n"
     ]
    }
   ],
   "source": [
    "# task 5\n",
    "cube = lambda x : x ** 3\n",
    "\n",
    "print(\"Cube of 3 is: \", cube(3))"
   ]
  },
  {
   "cell_type": "code",
   "execution_count": null,
   "id": "4f66f419",
   "metadata": {},
   "outputs": [
    {
     "name": "stdout",
     "output_type": "stream",
     "text": [
      "[1, 4, 9, 16, 25]\n"
     ]
    }
   ],
   "source": [
    "# task 6\n",
    "numbers = [1, 2, 3, 4, 5]\n",
    "square_numbers = list(map(lambda x : x ** 2, numbers))\n",
    "print(square_numbers)   "
   ]
  },
  {
   "cell_type": "code",
   "execution_count": 20,
   "id": "11d02dff",
   "metadata": {},
   "outputs": [
    {
     "name": "stdout",
     "output_type": "stream",
     "text": [
      "[1, 3, 5]\n"
     ]
    }
   ],
   "source": [
    "# task 7\n",
    "numbers = [1, 2, 3, 4, 5]\n",
    "odd_numbers = list(filter(lambda x: x % 2 != 0, numbers))\n",
    "print(odd_numbers)"
   ]
  },
  {
   "cell_type": "code",
   "execution_count": 22,
   "id": "473751df",
   "metadata": {},
   "outputs": [
    {
     "name": "stdout",
     "output_type": "stream",
     "text": [
      "36\n"
     ]
    }
   ],
   "source": [
    "# task 8\n",
    "def outerFunc(x):\n",
    "    def innerFunc(x):\n",
    "        return x ** 2\n",
    "    \n",
    "    return innerFunc(x)\n",
    "\n",
    "print(outerFunc(6))"
   ]
  },
  {
   "cell_type": "code",
   "execution_count": 3,
   "id": "bc71214b",
   "metadata": {},
   "outputs": [
    {
     "name": "stdout",
     "output_type": "stream",
     "text": [
      "File contents:\n",
      "\n",
      "Line 1: this is sheryar!\n",
      "Line 2: here in gilgit.\n",
      "Line 3: learning ai.\n",
      "\n"
     ]
    }
   ],
   "source": [
    "# task 9 \n",
    "with open(\"myfile.txt\", \"w\") as f:\n",
    "    f.write(\"Line 1: this is sheryar!\\n\")\n",
    "    f.write(\"Line 2: here in gilgit.\\n\")\n",
    "    f.write(\"Line 3: learning ai.\\n\")\n",
    "\n",
    "with open(\"myfile.txt\", \"r\") as f:\n",
    "    contents = f.read()\n",
    "    print(\"File contents:\\n\")\n",
    "    print(contents)"
   ]
  },
  {
   "cell_type": "code",
   "execution_count": 4,
   "id": "078943dd",
   "metadata": {},
   "outputs": [
    {
     "name": "stdout",
     "output_type": "stream",
     "text": [
      "5.0\n",
      "Error: Cannot divide by zero.\n",
      "None\n",
      "Error: Both inputs must be numbers.\n",
      "None\n"
     ]
    }
   ],
   "source": [
    "# task 10\n",
    "def safe_divide(a, b):\n",
    "    try:\n",
    "        result = a / b\n",
    "        return result\n",
    "    except ZeroDivisionError:\n",
    "        print(\"Error: Cannot divide by zero.\")\n",
    "    except TypeError:\n",
    "        print(\"Error: Both inputs must be numbers.\")\n",
    "print(safe_divide(10, 2))\n",
    "print(safe_divide(5, 0))  \n",
    "print(safe_divide(\"5\", 2)) "
   ]
  },
  {
   "cell_type": "code",
   "execution_count": null,
   "id": "98f95669",
   "metadata": {},
   "outputs": [],
   "source": []
  }
 ],
 "metadata": {
  "kernelspec": {
   "display_name": ".venv (3.12.3)",
   "language": "python",
   "name": "python3"
  },
  "language_info": {
   "codemirror_mode": {
    "name": "ipython",
    "version": 3
   },
   "file_extension": ".py",
   "mimetype": "text/x-python",
   "name": "python",
   "nbconvert_exporter": "python",
   "pygments_lexer": "ipython3",
   "version": "3.12.3"
  }
 },
 "nbformat": 4,
 "nbformat_minor": 5
}
