{
 "cells": [
  {
   "cell_type": "code",
   "execution_count": 5,
   "id": "cb100b6b",
   "metadata": {},
   "outputs": [
    {
     "name": "stdout",
     "output_type": "stream",
     "text": [
      "Area: 78.53981633974483\n",
      "Area: 16\n"
     ]
    }
   ],
   "source": [
    "# task1\n",
    "import math\n",
    "\n",
    "class Circle:\n",
    "    def __init__(self, radius):\n",
    "        self.radius = radius\n",
    "\n",
    "    def area(self):\n",
    "        return math.pi * self.radius ** 2\n",
    "\n",
    "class Square:\n",
    "    def __init__(self, side):\n",
    "        self.side = side\n",
    "\n",
    "    def area(self):\n",
    "        return self.side ** 2\n",
    "\n",
    "\n",
    "# Polymorphism in action\n",
    "shapes = [Circle(5), Square(4)]\n",
    "\n",
    "for shape in shapes:\n",
    "    print(\"Area:\", shape.area())\n"
   ]
  },
  {
   "cell_type": "code",
   "execution_count": 6,
   "id": "344705bb",
   "metadata": {},
   "outputs": [
    {
     "name": "stdout",
     "output_type": "stream",
     "text": [
      "Vector(6, 8)\n"
     ]
    }
   ],
   "source": [
    "class Vector:\n",
    "    def __init__(self, x, y):\n",
    "        self.x = x\n",
    "        self.y = y\n",
    "\n",
    "    def __add__(self, other):\n",
    "        return Vector(self.x + other.x, self.y + other.y)\n",
    "\n",
    "    def __str__(self):\n",
    "        return f\"Vector({self.x}, {self.y})\"\n",
    "\n",
    "v1 = Vector(2, 3)\n",
    "v2 = Vector(4, 5)\n",
    "print(v1 + v2) \n"
   ]
  },
  {
   "cell_type": "code",
   "execution_count": 7,
   "id": "90ab8eb8",
   "metadata": {},
   "outputs": [
    {
     "name": "stdout",
     "output_type": "stream",
     "text": [
      "Book: Python Programming by John Doe\n",
      "18\n"
     ]
    }
   ],
   "source": [
    "class Book:\n",
    "    def __init__(self, title, author):\n",
    "        self.title = title\n",
    "        self.author = author\n",
    "\n",
    "    def __str__(self):\n",
    "        return f\"Book: {self.title} by {self.author}\"\n",
    "\n",
    "    def __len__(self):\n",
    "        return len(self.title)\n",
    "\n",
    "\n",
    "# Test\n",
    "b = Book(\"Python Programming\", \"John Doe\")\n",
    "print(b)  \n",
    "print(len(b)) \n"
   ]
  },
  {
   "cell_type": "code",
   "execution_count": 8,
   "id": "e0f0b828",
   "metadata": {},
   "outputs": [
    {
     "name": "stdout",
     "output_type": "stream",
     "text": [
      "False\n",
      "True\n"
     ]
    }
   ],
   "source": [
    "class Employee:\n",
    "    def __init__(self, name, salary):\n",
    "        self.name = name\n",
    "        self.salary = salary\n",
    "\n",
    "    def __gt__(self, other):\n",
    "        return self.salary > other.salary\n",
    "\n",
    "e1 = Employee(\"Alice\", 5000)\n",
    "e2 = Employee(\"Bob\", 6000)\n",
    "\n",
    "print(e1 > e2)  \n",
    "print(e2 > e1)  \n"
   ]
  },
  {
   "cell_type": "code",
   "execution_count": 9,
   "id": "8821a44e",
   "metadata": {},
   "outputs": [
    {
     "name": "stdout",
     "output_type": "stream",
     "text": [
      "Car is driving\n",
      "Bike is riding\n"
     ]
    }
   ],
   "source": [
    "class Vehicle:\n",
    "    def move(self):\n",
    "        print(\"Vehicle is moving\")\n",
    "\n",
    "class Car(Vehicle):\n",
    "    def move(self):\n",
    "        print(\"Car is driving\")\n",
    "\n",
    "class Bike(Vehicle):\n",
    "    def move(self):\n",
    "        print(\"Bike is riding\")\n",
    "\n",
    "\n",
    "def start_journey(vehicle: Vehicle):\n",
    "    vehicle.move()\n",
    "\n",
    "start_journey(Car())   \n",
    "start_journey(Bike())  \n"
   ]
  },
  {
   "cell_type": "code",
   "execution_count": 11,
   "id": "2f5a296a",
   "metadata": {},
   "outputs": [
    {
     "name": "stdout",
     "output_type": "stream",
     "text": [
      "Drawing a circle\n",
      "Drawing a rectangle\n",
      "Drawing a triangle\n"
     ]
    }
   ],
   "source": [
    "class Shape:\n",
    "    def draw(self):\n",
    "        print(\"Drawing a shape\")\n",
    "\n",
    "class Circle(Shape):\n",
    "    def draw(self):\n",
    "        print(\"Drawing a circle\")\n",
    "\n",
    "class Rectangle(Shape):\n",
    "    def draw(self):\n",
    "        print(\"Drawing a rectangle\")\n",
    "\n",
    "class Triangle(Shape):\n",
    "    def draw(self):\n",
    "        print(\"Drawing a triangle\")\n",
    "\n",
    "shapes = [Circle(), Rectangle(), Triangle()]\n",
    "\n",
    "for s in shapes:\n",
    "    s.draw()\n"
   ]
  },
  {
   "cell_type": "code",
   "execution_count": null,
   "id": "4ed4cb27",
   "metadata": {},
   "outputs": [],
   "source": []
  }
 ],
 "metadata": {
  "kernelspec": {
   "display_name": ".venv (3.12.3)",
   "language": "python",
   "name": "python3"
  },
  "language_info": {
   "codemirror_mode": {
    "name": "ipython",
    "version": 3
   },
   "file_extension": ".py",
   "mimetype": "text/x-python",
   "name": "python",
   "nbconvert_exporter": "python",
   "pygments_lexer": "ipython3",
   "version": "3.12.3"
  }
 },
 "nbformat": 4,
 "nbformat_minor": 5
}
